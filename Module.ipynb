{
  "nbformat": 4,
  "nbformat_minor": 0,
  "metadata": {
    "colab": {
      "provenance": [],
      "authorship_tag": "ABX9TyPvip86ReW4BSnHLv6Ia5rP",
      "include_colab_link": true
    },
    "kernelspec": {
      "name": "python3",
      "display_name": "Python 3"
    },
    "language_info": {
      "name": "python"
    }
  },
  "cells": [
    {
      "cell_type": "markdown",
      "metadata": {
        "id": "view-in-github",
        "colab_type": "text"
      },
      "source": [
        "<a href=\"https://colab.research.google.com/github/ATechievision/DataHubArchana/blob/main/Module.ipynb\" target=\"_parent\"><img src=\"https://colab.research.google.com/assets/colab-badge.svg\" alt=\"Open In Colab\"/></a>"
      ]
    },
    {
      "cell_type": "code",
      "execution_count": null,
      "metadata": {
        "id": "giYZnnU1RuBj"
      },
      "outputs": [],
      "source": [
        "def addition(a,b): #for the sum of tow values\n",
        " return a+b\n",
        "\n",
        "def subtraction(a,b): # for the difference of a & B\n",
        "  return a-b\n",
        "\n",
        "def multiplication (a,b): # for the product of a & b\n",
        "  return a*b\n",
        "\n",
        "def division (a,b): # for the division of a & b\n",
        "  return a/b\n"
      ]
    },
    {
      "cell_type": "code",
      "source": [
        "a = int(input(\"Enter the first number: \"))\n",
        "b = int(input(\"Enter the second number: \"))\n",
        "\n",
        "\n",
        "if a>b:\n",
        "  print(\"A=\",a,\"is greater\")\n",
        "else:\n",
        "  print(\"B=\",b,\" is greater\")"
      ],
      "metadata": {
        "colab": {
          "base_uri": "https://localhost:8080/"
        },
        "id": "_oan1l40Zxrw",
        "outputId": "a6aa2409-91b5-4520-b671-7f238233e7ff"
      },
      "execution_count": 1,
      "outputs": [
        {
          "output_type": "stream",
          "name": "stdout",
          "text": [
            "Enter the first number: 15\n",
            "Enter the second number: 20\n",
            "B= 20  is greater\n"
          ]
        }
      ]
    },
    {
      "cell_type": "markdown",
      "source": [
        "Write a number to check whether the given number is an armstrong number or not.\n",
        "\n",
        "Armstrong number is the number whose sum of cube of its digits is equal to the number.\n",
        "153 1,5,3 are the digits\n",
        "1^3=1\n",
        "s^3=125\n",
        "3^3=9\n",
        "1+125+27=153\n"
      ],
      "metadata": {
        "id": "aq6dTo0bazED"
      }
    },
    {
      "cell_type": "markdown",
      "source": [],
      "metadata": {
        "id": "WWVI9fpbaqv8"
      }
    },
    {
      "cell_type": "code",
      "source": [
        "num = int(input(\"Enter a number: \"))\n",
        "sum = 0\n",
        "\n",
        "temp = num\n",
        "while temp > 0:\n",
        "   digit = temp % 10\n",
        "   sum += digit ** 3  3 cube of the number\n",
        "   temp = temp //= 10\n",
        "\n",
        "if sum == num:\n",
        "   print(num,\"is an Armstrong number\")\n",
        "else:\n",
        "    print(num,\"is not an armstrong number\")"
      ],
      "metadata": {
        "colab": {
          "base_uri": "https://localhost:8080/",
          "height": 106
        },
        "id": "uv3wwKZMcFxA",
        "outputId": "2d1a4717-0dd9-4ca7-c638-57bc0f4db1b3"
      },
      "execution_count": 29,
      "outputs": [
        {
          "output_type": "error",
          "ename": "SyntaxError",
          "evalue": "invalid syntax (<ipython-input-29-6600399b1b93>, line 7)",
          "traceback": [
            "\u001b[0;36m  File \u001b[0;32m\"<ipython-input-29-6600399b1b93>\"\u001b[0;36m, line \u001b[0;32m7\u001b[0m\n\u001b[0;31m    sum += digit ** 3  3 cube of the number\u001b[0m\n\u001b[0m                       ^\u001b[0m\n\u001b[0;31mSyntaxError\u001b[0m\u001b[0;31m:\u001b[0m invalid syntax\n"
          ]
        }
      ]
    },
    {
      "cell_type": "code",
      "source": [
        "#Write a program to check a number is a prime number or not.\n",
        "\n",
        "\n",
        "# Prime number is  no. which is divisible by 1 and only itself.\n",
        "#e.g.- 2,3,5,7, 11.13- all these numbers are divisible by 1 or itself .So,they are prime numbers.\n",
        "# 4,6,8,9 -These are not prime numbers\n",
        "\n",
        "\n",
        "num = int(input(\"Enter a number: \")) #11\n",
        "\n",
        "\n",
        "if num >1: # 11>1 --yes\n",
        "   for i in range(2,num):   #2,3,....,10\n",
        "     if (num % i) == 0: #11 %2 ==1\n",
        "       print(num,\"is not a prime number.\")\n",
        "\n",
        "       break\n",
        "     else:\n",
        "       print(num,\"is a prime number.\")\n",
        "       break\n",
        "else:\n",
        "  print(num,\"is not a prime number.\")"
      ],
      "metadata": {
        "colab": {
          "base_uri": "https://localhost:8080/"
        },
        "id": "jLmN-d_Zmb5M",
        "outputId": "9af4ea8a-9726-4c40-c5a7-7656dbde6379"
      },
      "execution_count": 8,
      "outputs": [
        {
          "output_type": "stream",
          "name": "stdout",
          "text": [
            "Enter a number: 11\n",
            "11 is a prime number.\n"
          ]
        }
      ]
    },
    {
      "cell_type": "code",
      "source": [
        "#Create a calculator program for addition, subtraction, multiplication and floor division.\n",
        "# Take the inputs from the user , an based on the choice og operation.\n",
        "\n",
        "a= int(input (\"Enter the first no. :\"))\n",
        "b= int(input (\"Enter the second no. :\"))\n",
        "c= input(\"Enter the operation you want to perform(+,-,*,/):\")\n",
        "\n",
        "print(a)\n",
        "print(b)\n",
        "\n",
        "def addition(a,b):\n",
        " return a+b\n",
        "\n",
        "def subtraction(a,b):\n",
        " return a-b\n",
        "\n",
        "def multiplication(a,b):\n",
        "  return a*b\n",
        "\n",
        "def division(a,b):\n",
        "  return a//b\n",
        "\n",
        "  n1 = int(input(\"Entert 1st number:\"))\n",
        "  n2 = int(input(\"Enter 2nd number:\"))\n",
        "\n",
        "  choice = input(\"Enter your choice of operation (+,-,*,/):\")\n",
        "\n",
        "  if (choice ==\"add\" or choice == \"Add\" or choice ==\"addition\" or choice ==\"Addition\" or choice == \"+\"):\n",
        "     res=addition(n1,n2) #res-result\n",
        "  print(\"Addition of the numbers : \",res)\n",
        "\n",
        "  elif (choice ==\"sub\" or choice ==\"Sub\" or choice ==\"subtraction\" or choice ==\"Subtraction\" or choice== \"-\"):\n",
        "     res=subtraction(n1,n2)\n",
        "  print(\"Subtraction of the numbers : \",res)\n",
        "\n",
        "  elif (choice ==\"mul\" or choice == \"Mul\" or choice ==\"multiplication\" or choice ==\"Multiplication\" or choice == \"*\"):\n",
        "     res=multiplication(n1,n2)\n",
        "     print(\"Multiplication of the numbers : \",res)\n",
        "\n",
        "  elif (choice ==\"div\" or choice == \"Div\" or choice ==\"division\" or choice ==\"Division\" or choice == \"/\"):\n",
        "     res=division(n1,n2)\n",
        "     print(\"Division of the numbers : \",res)\n",
        "\n",
        "else:\n",
        "  print(\"Invalid operation\")\n",
        "\n",
        "# if c == '+':\n",
        "#   print(addition(a,b))\n",
        "# elif c == '-':\n",
        "#   print(subtraction(a,b))\n",
        "# elif c == '*':\n",
        "#   print(multiplication(a,b))\n",
        "# elif c == '/':\n",
        "#   print(division(a,b))"
      ],
      "metadata": {
        "colab": {
          "base_uri": "https://localhost:8080/",
          "height": 106
        },
        "id": "3EUZMbj5p_CX",
        "outputId": "f5dcc405-f0fd-4a99-9182-9b3a9773a893"
      },
      "execution_count": 50,
      "outputs": [
        {
          "output_type": "error",
          "ename": "SyntaxError",
          "evalue": "invalid syntax (<ipython-input-50-0cd1c21c2d0e>, line 32)",
          "traceback": [
            "\u001b[0;36m  File \u001b[0;32m\"<ipython-input-50-0cd1c21c2d0e>\"\u001b[0;36m, line \u001b[0;32m32\u001b[0m\n\u001b[0;31m    elif choice in [\"sub\", \"Sub\", \"subtraction\", \"Subtraction\", \"-\"]:\u001b[0m\n\u001b[0m    ^\u001b[0m\n\u001b[0;31mSyntaxError\u001b[0m\u001b[0;31m:\u001b[0m invalid syntax\n"
          ]
        }
      ]
    },
    {
      "cell_type": "code",
      "source": [
        "# Write a program to create a fibonacci sequence using python if else statements.\n",
        "#The next term is the sum of the last two\n",
        "#0,1,1,2,3,5,8......upto any term\n",
        "\n",
        "\n",
        "nterms = int (input(\"Enter the number of terms:\"))\n",
        "\n",
        "n1,n2 = 0,1\n",
        "count = 0\n",
        "\n",
        "if nterms <= 0:\n",
        "  print(\"Enter a positive number.\")\n",
        "elif nterms ==1:\n",
        "  print(\"Fibonacci sequence upto\", nterms,\":\")\n",
        "  print(n1)\n",
        "else:\n",
        "  print(\"Fibonacci sequence:\")\n",
        "  while count< nterms:\n",
        "    print(n1)\n",
        "    nth = n1 + n2\n",
        "    n1 = n2\n",
        "    n2 = nth\n",
        "    count += 1\n",
        "\n",
        "\n"
      ],
      "metadata": {
        "colab": {
          "base_uri": "https://localhost:8080/"
        },
        "id": "nwXr-rFYurCc",
        "outputId": "bb42aea8-00b6-471b-c630-f0cb69a28c69"
      },
      "execution_count": 24,
      "outputs": [
        {
          "output_type": "stream",
          "name": "stdout",
          "text": [
            "Enter the number of terms:10\n",
            "Fibonacci sequence:\n",
            "0\n",
            "1\n",
            "1\n",
            "2\n",
            "3\n",
            "5\n",
            "8\n",
            "13\n",
            "21\n",
            "34\n"
          ]
        }
      ]
    },
    {
      "cell_type": "code",
      "source": [
        "#Write a program to find factorial of a number."
      ],
      "metadata": {
        "id": "ozOWxpRLy38-"
      },
      "execution_count": null,
      "outputs": []
    },
    {
      "cell_type": "code",
      "source": [
        "#Write a program to check a number is odd or even."
      ],
      "metadata": {
        "id": "XEl8PGULy-TL"
      },
      "execution_count": null,
      "outputs": []
    }
  ]
}