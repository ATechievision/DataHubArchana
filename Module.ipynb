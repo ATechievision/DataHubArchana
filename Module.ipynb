{
  "nbformat": 4,
  "nbformat_minor": 0,
  "metadata": {
    "colab": {
      "provenance": [],
      "authorship_tag": "ABX9TyOBCX+XYuIBCaidzCE/ETJa",
      "include_colab_link": true
    },
    "kernelspec": {
      "name": "python3",
      "display_name": "Python 3"
    },
    "language_info": {
      "name": "python"
    }
  },
  "cells": [
    {
      "cell_type": "markdown",
      "metadata": {
        "id": "view-in-github",
        "colab_type": "text"
      },
      "source": [
        "<a href=\"https://colab.research.google.com/github/ATechievision/DataHubArchana/blob/main/Module.ipynb\" target=\"_parent\"><img src=\"https://colab.research.google.com/assets/colab-badge.svg\" alt=\"Open In Colab\"/></a>"
      ]
    },
    {
      "cell_type": "code",
      "execution_count": null,
      "metadata": {
        "id": "giYZnnU1RuBj"
      },
      "outputs": [],
      "source": [
        "def addition(a,b): #for the sum of tow values\n",
        " return a+b\n",
        "\n",
        "def subtraction(a,b): # for the difference of a & B\n",
        "  return a-b\n",
        "\n",
        "def multiplication (a,b): # for the product of a & b\n",
        "  return a*b\n",
        "\n",
        "def division (a,b): # for the division of a & b\n",
        "  return a/b\n"
      ]
    },
    {
      "cell_type": "code",
      "source": [
        "a = int(input(\"Enter the first number: \"))\n",
        "b = int(input(\"Enter the second number: \"))\n",
        "\n",
        "\n",
        "if a>b:\n",
        "  print(\"A=\",a,\"is greater\")\n",
        "else:\n",
        "  print(\"B=\",b,\" is greater\")"
      ],
      "metadata": {
        "colab": {
          "base_uri": "https://localhost:8080/"
        },
        "id": "_oan1l40Zxrw",
        "outputId": "a6aa2409-91b5-4520-b671-7f238233e7ff"
      },
      "execution_count": null,
      "outputs": [
        {
          "output_type": "stream",
          "name": "stdout",
          "text": [
            "Enter the first number: 15\n",
            "Enter the second number: 20\n",
            "B= 20  is greater\n"
          ]
        }
      ]
    },
    {
      "cell_type": "markdown",
      "source": [
        "Write a number to check whether the given number is an armstrong number or not.\n",
        "\n",
        "Armstrong number is the number whose sum of cube of its digits is equal to the number.\n",
        "153 1,5,3 are the digits\n",
        "1^3=1\n",
        "s^3=125\n",
        "3^3=9\n",
        "1+125+27=153\n"
      ],
      "metadata": {
        "id": "aq6dTo0bazED"
      }
    },
    {
      "cell_type": "markdown",
      "source": [],
      "metadata": {
        "id": "WWVI9fpbaqv8"
      }
    },
    {
      "cell_type": "code",
      "source": [
        "num = int(input(\"Enter a number: \"))\n",
        "sum = 0\n",
        "\n",
        "temp = num\n",
        "while temp > 0:\n",
        "   digit = temp % 10\n",
        "   sum += digit ** 3  3 cube of the number\n",
        "   temp = temp //= 10\n",
        "\n",
        "if sum == num:\n",
        "   print(num,\"is an Armstrong number\")\n",
        "else:\n",
        "    print(num,\"is not an armstrong number\")"
      ],
      "metadata": {
        "colab": {
          "base_uri": "https://localhost:8080/",
          "height": 106
        },
        "id": "uv3wwKZMcFxA",
        "outputId": "2d1a4717-0dd9-4ca7-c638-57bc0f4db1b3"
      },
      "execution_count": null,
      "outputs": [
        {
          "output_type": "error",
          "ename": "SyntaxError",
          "evalue": "invalid syntax (<ipython-input-29-6600399b1b93>, line 7)",
          "traceback": [
            "\u001b[0;36m  File \u001b[0;32m\"<ipython-input-29-6600399b1b93>\"\u001b[0;36m, line \u001b[0;32m7\u001b[0m\n\u001b[0;31m    sum += digit ** 3  3 cube of the number\u001b[0m\n\u001b[0m                       ^\u001b[0m\n\u001b[0;31mSyntaxError\u001b[0m\u001b[0;31m:\u001b[0m invalid syntax\n"
          ]
        }
      ]
    },
    {
      "cell_type": "code",
      "source": [
        "#Write a program to check a number is a prime number or not.\n",
        "\n",
        "\n",
        "# Prime number is  no. which is divisible by 1 and only itself.\n",
        "#e.g.- 2,3,5,7, 11.13- all these numbers are divisible by 1 or itself .So,they are prime numbers.\n",
        "# 4,6,8,9 -These are not prime numbers\n",
        "\n",
        "\n",
        "num = int(input(\"Enter a number: \")) #11\n",
        "\n",
        "\n",
        "if num >1: # 11>1 --yes\n",
        "   for i in range(2,num):   #2,3,....,10\n",
        "     if (num % i) == 0: #11 %2 ==1\n",
        "       print(num,\"is not a prime number.\")\n",
        "\n",
        "       break\n",
        "     else:\n",
        "       print(num,\"is a prime number.\")\n",
        "       break\n",
        "else:\n",
        "  print(num,\"is not a prime number.\")"
      ],
      "metadata": {
        "colab": {
          "base_uri": "https://localhost:8080/"
        },
        "id": "jLmN-d_Zmb5M",
        "outputId": "9af4ea8a-9726-4c40-c5a7-7656dbde6379"
      },
      "execution_count": null,
      "outputs": [
        {
          "output_type": "stream",
          "name": "stdout",
          "text": [
            "Enter a number: 11\n",
            "11 is a prime number.\n"
          ]
        }
      ]
    },
    {
      "cell_type": "code",
      "source": [
        "#Create a calculator program for addition, subtraction, multiplication and floor division.\n",
        "# Take the inputs from the user , an based on the choice og operation.\n",
        "\n",
        "a= int(input (\"Enter the first no. :\"))\n",
        "b= int(input (\"Enter the second no. :\"))\n",
        "c= input(\"Enter the operation you want to perform(+,-,*,/):\")\n",
        "\n",
        "print(a)\n",
        "print(b)\n",
        "\n",
        "def addition(a,b):\n",
        " return a+b\n",
        "\n",
        "def subtraction(a,b):\n",
        " return a-b\n",
        "\n",
        "def multiplication(a,b):\n",
        "  return a*b\n",
        "\n",
        "def division(a,b):\n",
        "  return a//b\n",
        "\n",
        "  n1 = int(input(\"Entert 1st number:\"))\n",
        "  n2 = int(input(\"Enter 2nd number:\"))\n",
        "\n",
        "  choice = input(\"Enter your choice of operation (+,-,*,/):\")\n",
        "\n",
        "  if (choice ==\"add\" or choice == \"Add\" or choice ==\"addition\" or choice ==\"Addition\" or choice == \"+\"):\n",
        "     res=addition(n1,n2) #res-result\n",
        "  print(\"Addition of the numbers : \",res)\n",
        "\n",
        "  elif (choice ==\"sub\" or choice ==\"Sub\" or choice ==\"subtraction\" or choice ==\"Subtraction\" or choice== \"-\"):\n",
        "     res=subtraction(n1,n2)\n",
        "  print(\"Subtraction of the numbers : \",res)\n",
        "\n",
        "  elif (choice ==\"mul\" or choice == \"Mul\" or choice ==\"multiplication\" or choice ==\"Multiplication\" or choice == \"*\"):\n",
        "     res=multiplication(n1,n2)\n",
        "     print(\"Multiplication of the numbers : \",res)\n",
        "\n",
        "  elif (choice ==\"div\" or choice == \"Div\" or choice ==\"division\" or choice ==\"Division\" or choice == \"/\"):\n",
        "     res=division(n1,n2)\n",
        "     print(\"Division of the numbers : \",res)\n",
        "\n",
        "else:\n",
        "  print(\"Invalid operation\")\n",
        "\n",
        "# if c == '+':\n",
        "#   print(addition(a,b))\n",
        "# elif c == '-':\n",
        "#   print(subtraction(a,b))\n",
        "# elif c == '*':\n",
        "#   print(multiplication(a,b))\n",
        "# elif c == '/':\n",
        "#   print(division(a,b))"
      ],
      "metadata": {
        "colab": {
          "base_uri": "https://localhost:8080/",
          "height": 106
        },
        "id": "3EUZMbj5p_CX",
        "outputId": "f5dcc405-f0fd-4a99-9182-9b3a9773a893"
      },
      "execution_count": null,
      "outputs": [
        {
          "output_type": "error",
          "ename": "SyntaxError",
          "evalue": "invalid syntax (<ipython-input-50-0cd1c21c2d0e>, line 32)",
          "traceback": [
            "\u001b[0;36m  File \u001b[0;32m\"<ipython-input-50-0cd1c21c2d0e>\"\u001b[0;36m, line \u001b[0;32m32\u001b[0m\n\u001b[0;31m    elif choice in [\"sub\", \"Sub\", \"subtraction\", \"Subtraction\", \"-\"]:\u001b[0m\n\u001b[0m    ^\u001b[0m\n\u001b[0;31mSyntaxError\u001b[0m\u001b[0;31m:\u001b[0m invalid syntax\n"
          ]
        }
      ]
    },
    {
      "cell_type": "code",
      "source": [
        "# Write a program to create a fibonacci sequence using python if else statements.\n",
        "#The next term is the sum of the last two\n",
        "#0,1,1,2,3,5,8......upto any term\n",
        "\n",
        "\n",
        "nterms = int (input(\"Enter the number of terms:\"))\n",
        "\n",
        "n1,n2 = 0,1\n",
        "count = 0\n",
        "\n",
        "if nterms <= 0:\n",
        "  print(\"Enter a positive number.\")\n",
        "elif nterms ==1:\n",
        "  print(\"Fibonacci sequence upto\", nterms,\":\")\n",
        "  print(n1)\n",
        "else:\n",
        "  print(\"Fibonacci sequence:\")\n",
        "  while count< nterms:\n",
        "    print(n1)\n",
        "    nth = n1 + n2\n",
        "    n1 = n2\n",
        "    n2 = nth\n",
        "    count += 1\n",
        "\n",
        "\n"
      ],
      "metadata": {
        "colab": {
          "base_uri": "https://localhost:8080/"
        },
        "id": "nwXr-rFYurCc",
        "outputId": "bb42aea8-00b6-471b-c630-f0cb69a28c69"
      },
      "execution_count": null,
      "outputs": [
        {
          "output_type": "stream",
          "name": "stdout",
          "text": [
            "Enter the number of terms:10\n",
            "Fibonacci sequence:\n",
            "0\n",
            "1\n",
            "1\n",
            "2\n",
            "3\n",
            "5\n",
            "8\n",
            "13\n",
            "21\n",
            "34\n"
          ]
        }
      ]
    },
    {
      "cell_type": "code",
      "source": [
        "#Write a program to find factorial of a number.\n",
        "\n",
        "num = int(input(\"Enter a number: \"))"
      ],
      "metadata": {
        "id": "ozOWxpRLy38-"
      },
      "execution_count": null,
      "outputs": []
    },
    {
      "cell_type": "code",
      "source": [
        "#Write a program to check a number is odd or even.\n",
        "#even numbers divisible by 2 ,remainder--0\n",
        "#odd numbers not divisble by 2,remainder--1\n",
        "\n",
        "num = int(input(\"Enter a number: \"))\n",
        "\n",
        "if num%2==0:\n",
        "  print(\"The number is even.\")\n",
        "else:\n",
        "  print (\"The number is odd.\")\n"
      ],
      "metadata": {
        "colab": {
          "base_uri": "https://localhost:8080/"
        },
        "id": "XEl8PGULy-TL",
        "outputId": "2d471527-a5ea-41e5-f9bf-7acb2316875d"
      },
      "execution_count": null,
      "outputs": [
        {
          "output_type": "stream",
          "name": "stdout",
          "text": [
            "Enter a number: 5\n",
            "The number is odd.\n"
          ]
        }
      ]
    },
    {
      "cell_type": "code",
      "source": [
        "#Create a nested deictionary with vaues as nested list for each key in the dictionary.\n",
        "\n",
        "#nested_dictionary\n",
        "\n",
        "nested_dict = {\n",
        "    'key1': [[1,2,3], [4,5],6],\n",
        "    'key2': [[\"a\",\"b\"], \"c\", \"d\"],\n",
        "    'key3': [[True,False]]\n",
        "}\n",
        "\n",
        "nested_dict\n",
        "\n",
        "print(type(nested_dict))"
      ],
      "metadata": {
        "colab": {
          "base_uri": "https://localhost:8080/"
        },
        "id": "f3kormlXZ1lX",
        "outputId": "bb264ba6-8d0d-4bcb-c026-c2bcd3029fe9"
      },
      "execution_count": null,
      "outputs": [
        {
          "output_type": "stream",
          "name": "stdout",
          "text": [
            "<class 'dict'>\n"
          ]
        }
      ]
    },
    {
      "cell_type": "code",
      "source": [
        "#Cretae two sets and perform the following:\n",
        "#a. Union of he twosets\n",
        "#b.Intersection of the two sets\n",
        "\n",
        "\n",
        "#Set- Is an unordered collection of data i.e, unique.\n",
        "\n",
        "#{}-curley braces for creating a set.\n",
        "# set1 = {1,2,3,4}\n",
        "\n",
        "set1 = {1,2,3,4}\n",
        "set2 = {3,4,5,6}\n",
        "\n",
        "union_set = set1 | set2\n",
        "print(union_set)\n",
        "\n",
        "intersection_set = set1 & set2\n",
        "print(intersection_set)\n",
        "\n",
        "#INTERSECTION will returna new set containing only the common values.\n",
        "\n",
        "print(set1.union(set2)) #union of a & b,union operator,checks for unique values,unique os those two sets\n",
        "print(set1.intersection(set2)) #intersection of a & b\n",
        "\n",
        "set3 = {\"ram\", \"Shyam\", \"ram\" , \"alex\"}\n",
        "print(set3)\n",
        "\n",
        "\n",
        "list4 = [1,2,2,3,4,4,5,6]\n",
        "set4 = set(list4) # converting list into set with the help of set()\n",
        "print(set4)\n",
        "\n"
      ],
      "metadata": {
        "colab": {
          "base_uri": "https://localhost:8080/"
        },
        "id": "lCHlPnItcTKv",
        "outputId": "c4287803-bd3a-41a8-bb28-e728c077c834"
      },
      "execution_count": null,
      "outputs": [
        {
          "output_type": "stream",
          "name": "stdout",
          "text": [
            "{1, 2, 3, 4, 5, 6}\n",
            "{3, 4}\n",
            "{'Shyam', 'alex', 'ram'}\n",
            "{1, 2, 3, 4, 5, 6}\n"
          ]
        }
      ]
    },
    {
      "cell_type": "code",
      "source": [
        "# Create two sets and return the union  and intersection of those two sets.\n",
        "\n",
        "\n",
        "x = {\"a\",\"b\",\"c\",\"d\",\"a\",\"d\"}\n",
        "y = {\"c\",\"d\",\"e\",\"f\",\"f\",\"g\"}\n",
        "\n",
        "print(x.union(y))\n",
        "print(x.intersection(y))\n"
      ],
      "metadata": {
        "colab": {
          "base_uri": "https://localhost:8080/"
        },
        "id": "SsWFH2P8im6H",
        "outputId": "80d52c0e-3399-4801-acc0-2c9cfd1412f2"
      },
      "execution_count": null,
      "outputs": [
        {
          "output_type": "stream",
          "name": "stdout",
          "text": [
            "{'c', 'a', 'd', 'b', 'f', 'g', 'e'}\n",
            "{'c', 'd'}\n"
          ]
        }
      ]
    },
    {
      "cell_type": "code",
      "source": [
        "set_1={2,5,3,6,True,False}\n",
        "set_2={1,0,\"Archana\", \"Manasa\",\"Atul\",5,3}\n",
        "\n",
        "set_1.union(set_2)\n",
        "set_1.intersection(set_2)"
      ],
      "metadata": {
        "colab": {
          "base_uri": "https://localhost:8080/"
        },
        "id": "W8eyLl1jkUfo",
        "outputId": "9b5496cf-c2b5-4a42-eff6-31937d2a8d8d"
      },
      "execution_count": null,
      "outputs": [
        {
          "output_type": "execute_result",
          "data": {
            "text/plain": [
              "{False, True, 3, 5}"
            ]
          },
          "metadata": {},
          "execution_count": 24
        }
      ]
    },
    {
      "cell_type": "code",
      "source": [
        "#Create a nested tuple from the dictionary, with each item in the tuple a key value pair form the dictionary.\n",
        "# nested_tuple = (\n",
        "#     {'key1':1},2,3, (4,5),6),\n",
        "#     {'key2': \"a\"},\"b\", \"c\", \"d\"),\n",
        "#     {(True, False)\n",
        "# )\n",
        "\n",
        "# print(nested_tuple)\n",
        "\n",
        "\n",
        "dict1 = {\n",
        "    \"key1\" : \"archana\" ,\n",
        "    \"key2\" : \"manasa\"\n",
        "}\n",
        "\n",
        "dict2 = {\n",
        "    \"key3\" : \"x\" ,\n",
        "    \"key4\" : \"y\"\n",
        "}\n",
        "\n",
        "dict3 = {\n",
        "    1 : dict1 ,\n",
        "    2 : dict2\n",
        "}\n",
        "\n",
        "nested_tuple= tuple((key,value) for key, value in dict3.items())\n",
        "print(nested_tuple)\n",
        "\n",
        "# print(dict3.items)\n",
        "# for key,value in dict3.items():\n",
        "#   print(key,value)\n"
      ],
      "metadata": {
        "colab": {
          "base_uri": "https://localhost:8080/"
        },
        "id": "wZXZKV24lvCT",
        "outputId": "ab076f0c-6bda-4baa-cb09-71a64ae8044a"
      },
      "execution_count": null,
      "outputs": [
        {
          "output_type": "stream",
          "name": "stdout",
          "text": [
            "((1, {'key1': 'archana', 'key2': 'manasa'}), (2, {'key3': 'x', 'key4': 'y'}))\n",
            "<built-in method items of dict object at 0x7dcd0313ddc0>\n",
            "1 {'key1': 'archana', 'key2': 'manasa'}\n",
            "2 {'key3': 'x', 'key4': 'y'}\n"
          ]
        }
      ]
    },
    {
      "cell_type": "code",
      "source": [
        "#create a list of 50 even natural numbers, and perform the following operations.\n",
        "\n",
        "# num = int(input(\"Enter a number: \"))\n",
        "\n",
        "# if num%2==0:\n",
        "#   print(\"The number is even.\")\n",
        "# else:\n",
        "#   print (\"The number is odd.\")\n",
        "\n",
        "# list_1 = []\n",
        "\n",
        "# for i in range(1,101):\n",
        "#   if i%2==0:\n",
        "#     list_1.append(i)\n",
        "# print(list_1)\n",
        "\n",
        "list2 = [i for i in range(2,102,2)]\n",
        "print(list2)"
      ],
      "metadata": {
        "colab": {
          "base_uri": "https://localhost:8080/"
        },
        "id": "pkJCO0z7pW9B",
        "outputId": "8e933018-b88d-4684-d84f-735e9d2c4c5d"
      },
      "execution_count": null,
      "outputs": [
        {
          "output_type": "stream",
          "name": "stdout",
          "text": [
            "[2, 4, 6, 8, 10, 12, 14, 16, 18, 20, 22, 24, 26, 28, 30, 32, 34, 36, 38, 40, 42, 44, 46, 48, 50, 52, 54, 56, 58, 60, 62, 64, 66, 68, 70, 72, 74, 76, 78, 80, 82, 84, 86, 88, 90, 92, 94, 96, 98, 100]\n"
          ]
        }
      ]
    },
    {
      "cell_type": "code",
      "source": [
        "# list3 = [2*i for i in range(1,51)]\n",
        "# print(list3)\n",
        "# count= len(list3)\n",
        "# print(\"No. of elements in the list:\",count)\n",
        "\n",
        "# reversed_list = list3[::-1]\n",
        "# print(reversed_list)\n",
        "\n",
        "# #Sort the list in ascednding order\n",
        "\n",
        "# ascending_order = sorted(list3)\n",
        "# print(ascending_order)\n",
        "\n",
        "#Descending order\n",
        "\n",
        "# descending_order = sorted(list3, reverse=True)\n",
        "# print(descending_order)\n",
        "\n",
        "#index\n",
        "index_44 = list3.index(44)\n",
        "print(index_44)"
      ],
      "metadata": {
        "colab": {
          "base_uri": "https://localhost:8080/"
        },
        "id": "m-ZDLi1gxY20",
        "outputId": "58dc072a-09c1-4085-c5ba-b6cca590be08"
      },
      "execution_count": null,
      "outputs": [
        {
          "output_type": "stream",
          "name": "stdout",
          "text": [
            "21\n"
          ]
        }
      ]
    },
    {
      "cell_type": "code",
      "source": [
        "index_10 = list3.index(10)\n",
        "print(index_10)"
      ],
      "metadata": {
        "colab": {
          "base_uri": "https://localhost:8080/"
        },
        "id": "D9SMGLLE1U5_",
        "outputId": "9c77882f-f966-4f2d-e230-4f0950ac88cf"
      },
      "execution_count": null,
      "outputs": [
        {
          "output_type": "stream",
          "name": "stdout",
          "text": [
            "4\n"
          ]
        }
      ]
    },
    {
      "cell_type": "code",
      "source": [
        "print(list3.index(20))"
      ],
      "metadata": {
        "colab": {
          "base_uri": "https://localhost:8080/"
        },
        "id": "DO2Co6U-1kL3",
        "outputId": "1724de3d-5887-410f-c72c-e184f3e695fb"
      },
      "execution_count": null,
      "outputs": [
        {
          "output_type": "stream",
          "name": "stdout",
          "text": [
            "9\n"
          ]
        }
      ]
    },
    {
      "cell_type": "code",
      "source": [
        "\n",
        "list3[index_44] = 100\n",
        "print(list3)\n",
        "\n"
      ],
      "metadata": {
        "colab": {
          "base_uri": "https://localhost:8080/"
        },
        "id": "bKnVK-Y31xlD",
        "outputId": "ccd637da-10cf-48f0-cdc8-5bdc1edd3ca0"
      },
      "execution_count": null,
      "outputs": [
        {
          "output_type": "stream",
          "name": "stdout",
          "text": [
            "[2, 4, 6, 8, 10, 12, 14, 16, 18, 20, 22, 24, 26, 28, 30, 32, 34, 36, 38, 40, 42, 100, 46, 48, 50, 52, 54, 56, 58, 60, 62, 64, 66, 68, 70, 72, 74, 76, 78, 80, 82, 84, 86, 88, 90, 92, 94, 96, 98, 100]\n"
          ]
        }
      ]
    },
    {
      "cell_type": "code",
      "source": [
        "squared_list = [num**2 for num in list3]\n",
        "print(squared_list)"
      ],
      "metadata": {
        "colab": {
          "base_uri": "https://localhost:8080/"
        },
        "id": "u3z9zC3R28h3",
        "outputId": "59fadf0d-ce9c-495d-bc8c-bd27aa4c2424"
      },
      "execution_count": null,
      "outputs": [
        {
          "output_type": "stream",
          "name": "stdout",
          "text": [
            "[4, 16, 36, 64, 100, 144, 196, 256, 324, 400, 484, 576, 676, 784, 900, 1024, 1156, 1296, 1444, 1600, 1764, 10000, 2116, 2304, 2500, 2704, 2916, 3136, 3364, 3600, 3844, 4096, 4356, 4624, 4900, 5184, 5476, 5776, 6084, 6400, 6724, 7056, 7396, 7744, 8100, 8464, 8836, 9216, 9604, 10000]\n"
          ]
        }
      ]
    },
    {
      "cell_type": "markdown",
      "source": [],
      "metadata": {
        "id": "1iTZnVxQ4HFr"
      }
    },
    {
      "cell_type": "markdown",
      "source": [
        "#For the given strings A= \"Python programming language\" , B = \"Best in the World\",perform the following operations.\n",
        "#Using indexing operations, get the text \"gram\" rom the string A.\n",
        "#Using indexing operations ,get the text \"World\" from the string B.\n",
        "#Change the letters in both strings to uppercase letters.\n",
        "#Concatenate the two strings."
      ],
      "metadata": {
        "id": "btPZ5X-e4Rhf"
      }
    },
    {
      "cell_type": "markdown",
      "source": [],
      "metadata": {
        "id": "OrSFQ8zV4EOn"
      }
    },
    {
      "cell_type": "code",
      "source": [
        "A = \"Python Programming Language\"\n",
        "B = \"Best In The World\"\n",
        "print(A)\n",
        "print(B)\n",
        "\n"
      ],
      "metadata": {
        "colab": {
          "base_uri": "https://localhost:8080/"
        },
        "id": "n4L9ZOkW4Vho",
        "outputId": "3085183d-49eb-4a7f-942e-5296652afa75"
      },
      "execution_count": null,
      "outputs": [
        {
          "output_type": "stream",
          "name": "stdout",
          "text": [
            "Python Programming Language\n",
            "Best In The World\n"
          ]
        }
      ]
    },
    {
      "cell_type": "code",
      "source": [
        "A[10:14]"
      ],
      "metadata": {
        "colab": {
          "base_uri": "https://localhost:8080/",
          "height": 36
        },
        "id": "wGJoMXMF4xcu",
        "outputId": "32f3811e-92fd-4d8c-962e-6f34680227f2"
      },
      "execution_count": null,
      "outputs": [
        {
          "output_type": "execute_result",
          "data": {
            "text/plain": [
              "'gram'"
            ],
            "application/vnd.google.colaboratory.intrinsic+json": {
              "type": "string"
            }
          },
          "metadata": {},
          "execution_count": 67
        }
      ]
    },
    {
      "cell_type": "code",
      "source": [
        "B[-5:]"
      ],
      "metadata": {
        "colab": {
          "base_uri": "https://localhost:8080/",
          "height": 36
        },
        "id": "lvph9uyz49lt",
        "outputId": "079e9a10-f36b-4b75-8ae6-bf43ba06b763"
      },
      "execution_count": null,
      "outputs": [
        {
          "output_type": "execute_result",
          "data": {
            "text/plain": [
              "'World'"
            ],
            "application/vnd.google.colaboratory.intrinsic+json": {
              "type": "string"
            }
          },
          "metadata": {},
          "execution_count": 71
        }
      ]
    },
    {
      "cell_type": "code",
      "source": [
        "B[-9:-6]"
      ],
      "metadata": {
        "colab": {
          "base_uri": "https://localhost:8080/",
          "height": 36
        },
        "id": "owmZVfpF5eSr",
        "outputId": "43462475-324d-4d4b-e57d-01a16a7fe6ef"
      },
      "execution_count": null,
      "outputs": [
        {
          "output_type": "execute_result",
          "data": {
            "text/plain": [
              "'The'"
            ],
            "application/vnd.google.colaboratory.intrinsic+json": {
              "type": "string"
            }
          },
          "metadata": {},
          "execution_count": 72
        }
      ]
    },
    {
      "cell_type": "code",
      "source": [
        "A.upper()\n",
        "B.upper()"
      ],
      "metadata": {
        "colab": {
          "base_uri": "https://localhost:8080/",
          "height": 36
        },
        "id": "np5DToyp5rBF",
        "outputId": "fba9955e-3793-4a2d-e8bf-6c198538e648"
      },
      "execution_count": null,
      "outputs": [
        {
          "output_type": "execute_result",
          "data": {
            "text/plain": [
              "'BEST IN THE WORLD'"
            ],
            "application/vnd.google.colaboratory.intrinsic+json": {
              "type": "string"
            }
          },
          "metadata": {},
          "execution_count": 74
        }
      ]
    },
    {
      "cell_type": "code",
      "source": [
        "conC = A + \" ,\" + B\n",
        "print(conC)"
      ],
      "metadata": {
        "colab": {
          "base_uri": "https://localhost:8080/"
        },
        "id": "JHEOY-uI6GmT",
        "outputId": "e5fae277-917b-4ff0-c9b4-6242c63bbeac"
      },
      "execution_count": null,
      "outputs": [
        {
          "output_type": "stream",
          "name": "stdout",
          "text": [
            "Python Programming Language ,Best In The World\n"
          ]
        }
      ]
    },
    {
      "cell_type": "markdown",
      "source": [
        "#Create a list with n numbers, and using negative indexing return the list starting from the 5th\n",
        "index to the n-2th index.\n",
        "#Using range() , create a list with numbers ranging from 5-100, and the number of elements should be exactly 19..\n",
        "range (starting_index : ending_index : step_/size)"
      ],
      "metadata": {
        "id": "2uY9_7sX6cFY"
      }
    },
    {
      "cell_type": "code",
      "source": [],
      "metadata": {
        "id": "dEWhAWfA7EUk"
      },
      "execution_count": null,
      "outputs": []
    },
    {
      "cell_type": "code",
      "source": [
        "#Count the number of elements in the list\n"
      ],
      "metadata": {
        "colab": {
          "base_uri": "https://localhost:8080/",
          "height": 158
        },
        "id": "hhk4HbGlxrQO",
        "outputId": "f72dad8c-9db8-4a89-8aa3-9953d57abd2d"
      },
      "execution_count": null,
      "outputs": [
        {
          "output_type": "error",
          "ename": "NameError",
          "evalue": "name 'count' is not defined",
          "traceback": [
            "\u001b[0;31m---------------------------------------------------------------------------\u001b[0m",
            "\u001b[0;31mNameError\u001b[0m                                 Traceback (most recent call last)",
            "\u001b[0;32m<ipython-input-43-b91614d38627>\u001b[0m in \u001b[0;36m<cell line: 0>\u001b[0;34m()\u001b[0m\n\u001b[1;32m      1\u001b[0m \u001b[0;31m#Count the number of elements in the list\u001b[0m\u001b[0;34m\u001b[0m\u001b[0;34m\u001b[0m\u001b[0m\n\u001b[0;32m----> 2\u001b[0;31m \u001b[0mcount\u001b[0m\u001b[0;34m(\u001b[0m\u001b[0mlist3\u001b[0m\u001b[0;34m)\u001b[0m\u001b[0;34m\u001b[0m\u001b[0;34m\u001b[0m\u001b[0m\n\u001b[0m",
            "\u001b[0;31mNameError\u001b[0m: name 'count' is not defined"
          ]
        }
      ]
    },
    {
      "cell_type": "code",
      "source": [
        "#Single Inheritence\n",
        "#before defining a class we have to give the class name\n",
        "#Single Inheritence\n",
        "#before defining a class we have to give the class name\n",
        "\n",
        "class Parent:\n",
        "  def __init__(self):\n",
        "    self.name = \"XYZ\"\n",
        "\n",
        "class Child(Parent):\n",
        "  def display(self):\n",
        "    print(self.name)\n",
        "\n",
        "obja= Child()\n",
        "obja.display()\n",
        "class Child(Parent):\n",
        "  def display(self):\n",
        "    print(self.name)\n",
        "\n",
        "obja= Child()\n",
        "obj1.display()\n",
        "\n"
      ],
      "metadata": {
        "colab": {
          "base_uri": "https://localhost:8080/",
          "height": 228
        },
        "id": "df604pslYR2O",
        "outputId": "6c950fca-d8e4-4eca-8428-20eb2132a45d"
      },
      "execution_count": null,
      "outputs": [
        {
          "output_type": "stream",
          "name": "stdout",
          "text": [
            "XYZ\n"
          ]
        },
        {
          "output_type": "error",
          "ename": "NameError",
          "evalue": "name 'obj1' is not defined",
          "traceback": [
            "\u001b[0;31m---------------------------------------------------------------------------\u001b[0m",
            "\u001b[0;31mNameError\u001b[0m                                 Traceback (most recent call last)",
            "\u001b[0;32m<ipython-input-2-1245fc94b2d7>\u001b[0m in \u001b[0;36m<cell line: 0>\u001b[0;34m()\u001b[0m\n\u001b[1;32m     19\u001b[0m \u001b[0;34m\u001b[0m\u001b[0m\n\u001b[1;32m     20\u001b[0m \u001b[0mobja\u001b[0m\u001b[0;34m=\u001b[0m \u001b[0mChild\u001b[0m\u001b[0;34m(\u001b[0m\u001b[0;34m)\u001b[0m\u001b[0;34m\u001b[0m\u001b[0;34m\u001b[0m\u001b[0m\n\u001b[0;32m---> 21\u001b[0;31m \u001b[0mobj1\u001b[0m\u001b[0;34m.\u001b[0m\u001b[0mdisplay\u001b[0m\u001b[0;34m(\u001b[0m\u001b[0;34m)\u001b[0m\u001b[0;34m\u001b[0m\u001b[0;34m\u001b[0m\u001b[0m\n\u001b[0m\u001b[1;32m     22\u001b[0m \u001b[0;34m\u001b[0m\u001b[0m\n\u001b[1;32m     23\u001b[0m \u001b[0;34m\u001b[0m\u001b[0m\n",
            "\u001b[0;31mNameError\u001b[0m: name 'obj1' is not defined"
          ]
        }
      ]
    },
    {
      "cell_type": "code",
      "source": [
        "class Animal:\n",
        "  def sound(self):\n",
        "    print(\"Animals make sound\")\n",
        "\n",
        "class Dog(Animal):\n",
        "  def bark(self):\n",
        "    print(\"Dog barks\")\n",
        "\n",
        "\n",
        "obj2=Dog()\n",
        "obj2.bark()\n",
        "obj2.sound()\n"
      ],
      "metadata": {
        "colab": {
          "base_uri": "https://localhost:8080/"
        },
        "id": "vp9vWf6baQD7",
        "outputId": "d48378f0-f801-4c5e-b204-a7a857ed33c3"
      },
      "execution_count": null,
      "outputs": [
        {
          "output_type": "stream",
          "name": "stdout",
          "text": [
            "Dog barks\n",
            "Animals make sound\n"
          ]
        }
      ]
    },
    {
      "cell_type": "code",
      "source": [
        "#Multiple Inheritance-- Inheriting from more than one class\n",
        "\n",
        "\n",
        "class parent1:\n",
        "  def__init__(self):\n",
        "    self.name1 = \"Archana\"\n",
        "\n",
        "class Parent2:\n",
        "  def_init_(self):\n",
        "    self.age=20\n",
        "    self.city=\"Almere\"\n",
        "\n",
        "class child(Parent1, Parent2):\n",
        "  def_init_(self):\n",
        "    self.country =\"Netherlands\"\n",
        "\n",
        "    Parent1._init(self)\n",
        "    Parent2._init_(self)\n",
        "\n",
        "  def display(self):\n",
        "    print(self.name1, self.age , self.city, self.country)\n",
        "\n",
        " obj3= child()\n",
        " obj3.display()\n",
        " obj3.display()\n"
      ],
      "metadata": {
        "colab": {
          "base_uri": "https://localhost:8080/",
          "height": 106
        },
        "id": "_w88foFSYQnS",
        "outputId": "0af3ad68-f6be-426f-deb7-160bf42bdadd"
      },
      "execution_count": null,
      "outputs": [
        {
          "output_type": "error",
          "ename": "IndentationError",
          "evalue": "unindent does not match any outer indentation level (<tokenize>, line 23)",
          "traceback": [
            "\u001b[0;36m  File \u001b[0;32m\"<tokenize>\"\u001b[0;36m, line \u001b[0;32m23\u001b[0m\n\u001b[0;31m    obj3= child()\u001b[0m\n\u001b[0m    ^\u001b[0m\n\u001b[0;31mIndentationError\u001b[0m\u001b[0;31m:\u001b[0m unindent does not match any outer indentation level\n"
          ]
        }
      ]
    },
    {
      "cell_type": "code",
      "source": [
        "#Multilevel Inheritence-> We have one parent that parent have one child class and  the child class also havwe it's own sub child class.\n",
        "\n",
        "#A > B > C\n",
        "\n",
        "class A:\n",
        "  def_init_(self):\n",
        "    self.name = \"XYZ\"\n",
        "\n",
        "class B(A):\n",
        "  def_init(self):\n",
        "    self.age = 20\n",
        "\n",
        "    A._init_(self)\n",
        "\n",
        "  def display(self)\n",
        "  print(self.name, self.age)\n",
        "\n",
        "class C(B):\n",
        "  def_init(self)\n",
        "    self.city = \"Bangalore\"\n",
        "\n",
        "    B._init_(self)\n",
        "\n",
        "  def display2(self):\n",
        "    print(self.name, self.age , self.city)\n",
        "\n",
        "obj =C()\n",
        "\n",
        "obj1 =B()\n",
        "\n",
        "obj1.dispaly()\n",
        "obj.display2\n",
        "\n"
      ],
      "metadata": {
        "id": "OEVterCdbtl-"
      },
      "execution_count": null,
      "outputs": []
    },
    {
      "cell_type": "code",
      "source": [
        "class Parent:\n",
        "  def __init__(self):\n",
        "    self.mobile_brand = \"Apple\"\n",
        "\n",
        "class Child1(Parent):\n",
        "  def __init__(self):\n",
        "    self.mobile_name1 = \"IPhone 15\"\n",
        "\n",
        "    Parent.__init__(self)-could you fix the error\n",
        "    print(self.mobile_brand, self.mobile_name1)\n",
        "\n",
        "\n",
        "class Child2(Parent):\n",
        "  def __init__(self):\n",
        "    self.mobile2_name = \"IPhone 14\"\n",
        "\n",
        "    Parent.__init__(self)\n",
        "\n",
        "  def display2(self):\n",
        "    print(self.mobile_brand, self.mobile2_name)\n",
        "\n",
        "\n",
        "obj1 = Child1()\n",
        "\n",
        "obj2 = Child2()\n",
        "\n",
        "obj2.display2()\n",
        "class Child1(Parent):\n",
        "  def_init_  (self):\n",
        "    self.mobile_name1 = \"IPhone 15\"\n",
        "\n",
        "    Parent._init_(Self)\n",
        "    print(self.mobile_brand, self.mobile1_name)\n",
        "\n",
        "\n",
        "class Child2(Parent):\n",
        "  def_init_(self):\n",
        "    self.mobile2_name = \"IPhone 14\"\n",
        "\n",
        "    Parent._init_(self)\n",
        "\n",
        "  def display2(self):\n",
        "    print(self.mobile_brand.self.mobile_name)\n",
        "\n",
        "\n",
        "obj1 = Child1()\n",
        "\n",
        "obj2 = Child2()\n",
        "\n",
        "obj2.display2()\n"
      ],
      "metadata": {
        "colab": {
          "base_uri": "https://localhost:8080/",
          "height": 106
        },
        "id": "0Ap8qW0odnks",
        "outputId": "7afc1454-feae-40cb-bbb2-794c7a6b177a"
      },
      "execution_count": null,
      "outputs": [
        {
          "output_type": "error",
          "ename": "SyntaxError",
          "evalue": "invalid syntax (<ipython-input-16-641a3339c580>, line 36)",
          "traceback": [
            "\u001b[0;36m  File \u001b[0;32m\"<ipython-input-16-641a3339c580>\"\u001b[0;36m, line \u001b[0;32m36\u001b[0m\n\u001b[0;31m    def_init_  (self):\u001b[0m\n\u001b[0m                     ^\u001b[0m\n\u001b[0;31mSyntaxError\u001b[0m\u001b[0;31m:\u001b[0m invalid syntax\n"
          ]
        }
      ]
    },
    {
      "cell_type": "markdown",
      "source": [
        "#Create a parent class as person and define some attributes here name, address, and define display().\n",
        "\n",
        "#Create a child class, define age, inherit parent class and display\n",
        "#define another child2 class, define name2 and inherit parent class here.\n",
        "#define one more class and you have to inherit both child1 and child2.\n"
      ],
      "metadata": {
        "id": "UC6rZRHCjDtw"
      }
    },
    {
      "cell_type": "code",
      "source": [
        "\n",
        "class Person:\n",
        "def_init_(self):\n",
        "  self.name = \"XYZ\"\n",
        "  self.country = \"Holland\"\n",
        "\n",
        "def display(self):\n",
        "  print(self.name, self.country)\n",
        "\n",
        "class child1(Person):\n",
        "  def_init_(self):\n",
        "    self.age = 28\n",
        "\n",
        "    Person._init_(self)\n",
        "\n",
        "  def display1(self):\n",
        "    print(self.name, self.age, self.country)\n",
        "\n",
        "class child2(Person):\n",
        "  def_init_(self):\n",
        "    self.name2 = \"ABC\"\n",
        "\n",
        "    Person._init_(self)\n",
        "\n",
        "  def display2(self):\n",
        "    print(self.name, self.name1)\n",
        "\n",
        "class subchild(child1, child2):\n",
        "  def_init_(self):\n",
        "\n",
        "\n",
        "    child1._init_(self)\n",
        "    child2._init_(self)\n",
        "\n",
        "\n",
        "\n",
        " def display4(self):\n",
        "  print(self.name2, self.age, self.name, self.country)\n",
        "\n",
        "\n",
        "obj1 = child1()\n",
        "\n",
        "obj2 = child2()\n",
        "\n",
        "obj3 = subchild()\n",
        "\n",
        "obj1.display1()\n",
        "obj2.display2()\n",
        "obj3.display4()\n",
        "\n"
      ],
      "metadata": {
        "colab": {
          "base_uri": "https://localhost:8080/",
          "height": 106
        },
        "id": "3G5SmmxLYQkw",
        "outputId": "f59faf0e-64d0-48a2-f044-d90dfd976054"
      },
      "execution_count": null,
      "outputs": [
        {
          "output_type": "error",
          "ename": "IndentationError",
          "evalue": "unindent does not match any outer indentation level (<tokenize>, line 36)",
          "traceback": [
            "\u001b[0;36m  File \u001b[0;32m\"<tokenize>\"\u001b[0;36m, line \u001b[0;32m36\u001b[0m\n\u001b[0;31m    def display4(self):\u001b[0m\n\u001b[0m    ^\u001b[0m\n\u001b[0;31mIndentationError\u001b[0m\u001b[0;31m:\u001b[0m unindent does not match any outer indentation level\n"
          ]
        }
      ]
    },
    {
      "cell_type": "markdown",
      "source": [
        "Encapsulation- It is a type of object oriented programming concept(OOPS) in which we restrict the direct access of an object's components.\n",
        "\n",
        "#Why Encapsulation->( it will help us for data protection)Data protectation.data hiding, code maintainability.\n"
      ],
      "metadata": {
        "id": "N2-OnojbnQn-"
      }
    },
    {
      "cell_type": "code",
      "source": [
        "#In the bank account ,we have a/c no.,balance-->I want to put a restriction ,so I can only have access to it.\n",
        "#Access ZModifiers :\n",
        "#Public --->that is accessible outside the class and inside the class also.(Public Access Modifiers)\n",
        "\n",
        "#Protected ---> It is accessible to next derived class.\n",
        "#But in Python Protected and Public are same.\n",
        "#It will be declared with the help of \"_\" before the name.\n",
        "\n",
        "#Private--> It is only accessible inside the class.\n",
        "#It is declared with the help of \"__\"(double underscore) before the name.\n",
        "\n",
        "\n"
      ],
      "metadata": {
        "id": "zcompIptYQgK"
      },
      "execution_count": null,
      "outputs": []
    },
    {
      "cell_type": "code",
      "source": [
        "class myClass:\n",
        "  def __init__(self,color):\n",
        "    self.color = color  #publicaccess modifier\n",
        "\n",
        "  def display(self) :\n",
        "    print(self.color)\n",
        "\n",
        "class class2(myClass):\n",
        "  def __init__(self):\n",
        "    myClass.__init__(self,\"\")\n",
        "\n",
        "  def display2(self):\n",
        "    print(self.color)\n",
        "\n",
        "obj = myClass(\"red\")\n",
        "\n",
        "obj2 = class2()\n",
        "\n",
        "obj2.display2()\n",
        "  def display():\n",
        "    print(self.color)\n",
        "\n",
        "class class2(myClass):\n",
        "  def_init_(self):\n",
        "    myClass._init_(self)\n",
        "\n",
        "  def display2(self):\n",
        "    print(self.color)\n",
        "\n",
        "obj = myClass(\"red\")\n",
        "\n",
        "obj2 = class2()\n",
        "\n",
        "obj2.display2()"
      ],
      "metadata": {
        "colab": {
          "base_uri": "https://localhost:8080/",
          "height": 106
        },
        "id": "fYm3VK0KYPvG",
        "outputId": "1efb51c4-b361-43cb-a8c1-7b27db268b42"
      },
      "execution_count": null,
      "outputs": [
        {
          "output_type": "error",
          "ename": "IndentationError",
          "evalue": "unexpected indent (<ipython-input-28-42a99ae65d36>, line 20)",
          "traceback": [
            "\u001b[0;36m  File \u001b[0;32m\"<ipython-input-28-42a99ae65d36>\"\u001b[0;36m, line \u001b[0;32m20\u001b[0m\n\u001b[0;31m    def display() :\u001b[0m\n\u001b[0m    ^\u001b[0m\n\u001b[0;31mIndentationError\u001b[0m\u001b[0;31m:\u001b[0m unexpected indent\n"
          ]
        }
      ]
    },
    {
      "cell_type": "code",
      "source": [
        "class A:\n",
        "  def __init__(self, balance):\n",
        "    self.__private_mem = \"This is the private member\" #it is a private attribute\n",
        "    self.balance = balance #public\n",
        "\n",
        "  def display_1(self):\n",
        "    print(self.__private_mem,self.balance)\n",
        "\n",
        "class B(A):\n",
        "  def display1(self):\n",
        "    print(self._private_meme, self.balance)\n",
        "\n",
        "obj1 = A(1000000)\n",
        "obj1.display_1()\n",
        "\n",
        "  def display_1 (self):\n",
        "    print(self.__private_mem,self.balance)\n",
        "\n",
        "class B(A):\n",
        "  def display1(self):\n",
        "    print(self._private_meme, self.balance)\n",
        "\n",
        "# obj1 = A(10,00,000)\n",
        "# obj.display_1()\n",
        "\n",
        "obj2 A(12000)\n",
        "obj2.display_1()\n"
      ],
      "metadata": {
        "colab": {
          "base_uri": "https://localhost:8080/",
          "height": 106
        },
        "id": "gDFbcganYPrT",
        "outputId": "13c62956-3597-43b6-8a6e-d6602749796e"
      },
      "execution_count": null,
      "outputs": [
        {
          "output_type": "error",
          "ename": "IndentationError",
          "evalue": "unexpected indent (<ipython-input-31-6f1488d4d203>, line 16)",
          "traceback": [
            "\u001b[0;36m  File \u001b[0;32m\"<ipython-input-31-6f1488d4d203>\"\u001b[0;36m, line \u001b[0;32m16\u001b[0m\n\u001b[0;31m    def display_1(self):\u001b[0m\n\u001b[0m    ^\u001b[0m\n\u001b[0;31mIndentationError\u001b[0m\u001b[0;31m:\u001b[0m unexpected indent\n"
          ]
        }
      ]
    },
    {
      "cell_type": "code",
      "source": [
        "class h:\n",
        "  def __init__(self):\n",
        "    self.__protected_mem = \"This is the protected member\" #it is a protected attribute\n",
        "\n",
        "obj = h()\n",
        "\n",
        "print(obj._h__protected_mem)\n",
        "\n"
      ],
      "metadata": {
        "colab": {
          "base_uri": "https://localhost:8080/"
        },
        "id": "ckaqDQ4AYO3z",
        "outputId": "29dea080-9bae-49be-b075-42ce9ccbd54d"
      },
      "execution_count": null,
      "outputs": [
        {
          "output_type": "stream",
          "name": "stdout",
          "text": [
            "This is the protected member\n"
          ]
        }
      ]
    },
    {
      "cell_type": "code",
      "source": [
        "class h:\n",
        "  def __init__(self):\n",
        "    self.__protected_mem = \"This is the protected member\" #it is a protected attribute\n",
        "\n",
        "obj = h()\n",
        "\n",
        "# Access the protected member as an attribute, not a function\n",
        "print(obj._h__protected_mem)"
      ],
      "metadata": {
        "colab": {
          "base_uri": "https://localhost:8080/"
        },
        "id": "LZcRD_DEvj5H",
        "outputId": "b5915315-3520-4062-aa05-e69c578b1ffc"
      },
      "execution_count": null,
      "outputs": [
        {
          "output_type": "stream",
          "name": "stdout",
          "text": [
            "This is the protected member\n"
          ]
        }
      ]
    },
    {
      "cell_type": "code",
      "source": [
        "#Polymorphism--Many forms,i.e, a function or method will hve multiple functionality according to the need.\n",
        "\n",
        "#e.g- Our mother - She is the wife of my father.\n",
        "#                - daugter-in-law of my grand parents\n",
        "#                -She is my mother\n",
        "\n",
        "#Polymorphism is nothing but just a function behaving differently according to the situation."
      ],
      "metadata": {
        "id": "jIBMW-o5vjip"
      },
      "execution_count": null,
      "outputs": []
    },
    {
      "cell_type": "code",
      "source": [
        "class Mother:\n",
        "  def work(self):\n",
        "    print(\"mother\")\n",
        "\n",
        "class office:\n",
        "  def work(self):\n",
        "    print(\"employee\")\n",
        "\n",
        "class learner:\n",
        "  def work(self):\n",
        "    print(\"learner\")\n",
        "\n",
        "obj1 = learner()\n",
        "obj1.work()\n",
        "\n",
        "obj2 = office()\n",
        "obj2.work()\n",
        "\n",
        "obj3 = Mother()\n",
        "obj3.work()"
      ],
      "metadata": {
        "colab": {
          "base_uri": "https://localhost:8080/"
        },
        "id": "jMuUzVoF0NM3",
        "outputId": "a04e0f8e-909f-4b37-a461-48fdd60ecad2"
      },
      "execution_count": null,
      "outputs": [
        {
          "output_type": "stream",
          "name": "stdout",
          "text": [
            "learner\n",
            "employee\n",
            "mother\n"
          ]
        }
      ]
    },
    {
      "cell_type": "code",
      "source": [],
      "metadata": {
        "id": "xSmXFi_V3kpQ"
      },
      "execution_count": null,
      "outputs": []
    },
    {
      "cell_type": "code",
      "source": [
        "#Function overriding --when we have same function but different functionalities or replacing some part of  parent class with a child class.\n",
        "\n",
        "#Method overloading --We have same method and different parameters\n",
        "\n",
        "\n",
        "class A:\n",
        "  def function_1(self, a,b):\n",
        "    return a+b\n",
        "\n",
        "obj1 = A()\n",
        "print(obj1.function_1(10,20))\n",
        "print(obj1.function_1(20,30,40))\n",
        "\n",
        "\n",
        "# Method overloading is not possible inside Python."
      ],
      "metadata": {
        "colab": {
          "base_uri": "https://localhost:8080/",
          "height": 193
        },
        "id": "fomkLJ5Gvjc7",
        "outputId": "241744d9-71d0-4e96-ef3b-4a08f7d14a59"
      },
      "execution_count": null,
      "outputs": [
        {
          "output_type": "stream",
          "name": "stdout",
          "text": [
            "30\n"
          ]
        },
        {
          "output_type": "error",
          "ename": "TypeError",
          "evalue": "A.function_1() takes 3 positional arguments but 4 were given",
          "traceback": [
            "\u001b[0;31m---------------------------------------------------------------------------\u001b[0m",
            "\u001b[0;31mTypeError\u001b[0m                                 Traceback (most recent call last)",
            "\u001b[0;32m<ipython-input-45-ec446844aa5f>\u001b[0m in \u001b[0;36m<cell line: 0>\u001b[0;34m()\u001b[0m\n\u001b[1;32m     10\u001b[0m \u001b[0mobj1\u001b[0m \u001b[0;34m=\u001b[0m \u001b[0mA\u001b[0m\u001b[0;34m(\u001b[0m\u001b[0;34m)\u001b[0m\u001b[0;34m\u001b[0m\u001b[0;34m\u001b[0m\u001b[0m\n\u001b[1;32m     11\u001b[0m \u001b[0mprint\u001b[0m\u001b[0;34m(\u001b[0m\u001b[0mobj1\u001b[0m\u001b[0;34m.\u001b[0m\u001b[0mfunction_1\u001b[0m\u001b[0;34m(\u001b[0m\u001b[0;36m10\u001b[0m\u001b[0;34m,\u001b[0m\u001b[0;36m20\u001b[0m\u001b[0;34m)\u001b[0m\u001b[0;34m)\u001b[0m\u001b[0;34m\u001b[0m\u001b[0;34m\u001b[0m\u001b[0m\n\u001b[0;32m---> 12\u001b[0;31m \u001b[0mprint\u001b[0m\u001b[0;34m(\u001b[0m\u001b[0mobj1\u001b[0m\u001b[0;34m.\u001b[0m\u001b[0mfunction_1\u001b[0m\u001b[0;34m(\u001b[0m\u001b[0;36m20\u001b[0m\u001b[0;34m,\u001b[0m\u001b[0;36m30\u001b[0m\u001b[0;34m,\u001b[0m\u001b[0;36m40\u001b[0m\u001b[0;34m)\u001b[0m\u001b[0;34m)\u001b[0m\u001b[0;34m\u001b[0m\u001b[0;34m\u001b[0m\u001b[0m\n\u001b[0m",
            "\u001b[0;31mTypeError\u001b[0m: A.function_1() takes 3 positional arguments but 4 were given"
          ]
        }
      ]
    },
    {
      "cell_type": "code",
      "source": [
        "class animal:\n",
        "  def sound(self):\n",
        "    print(\"animals make sound\")\n",
        "\n",
        "\n",
        "class dog(animal):\n",
        "  def sound(self):\n",
        "    print(\"Dog barks\")\n",
        "obj = dog()\n",
        "obj.sound()\n",
        "\n",
        "obj1 = animal()\n",
        "obj1.animal()"
      ],
      "metadata": {
        "colab": {
          "base_uri": "https://localhost:8080/",
          "height": 193
        },
        "id": "d-xpEt8wunYi",
        "outputId": "7619d6a9-6c41-4cd8-fe0e-d61af661590d"
      },
      "execution_count": null,
      "outputs": [
        {
          "output_type": "stream",
          "name": "stdout",
          "text": [
            "Dog barks\n"
          ]
        },
        {
          "output_type": "error",
          "ename": "AttributeError",
          "evalue": "'animal1' object has no attribute 'animal1'",
          "traceback": [
            "\u001b[0;31m---------------------------------------------------------------------------\u001b[0m",
            "\u001b[0;31mAttributeError\u001b[0m                            Traceback (most recent call last)",
            "\u001b[0;32m<ipython-input-51-3ca9db2c5e67>\u001b[0m in \u001b[0;36m<cell line: 0>\u001b[0;34m()\u001b[0m\n\u001b[1;32m     11\u001b[0m \u001b[0;34m\u001b[0m\u001b[0m\n\u001b[1;32m     12\u001b[0m \u001b[0mobj1\u001b[0m \u001b[0;34m=\u001b[0m \u001b[0manimal1\u001b[0m\u001b[0;34m(\u001b[0m\u001b[0;34m)\u001b[0m\u001b[0;34m\u001b[0m\u001b[0;34m\u001b[0m\u001b[0m\n\u001b[0;32m---> 13\u001b[0;31m \u001b[0mobj1\u001b[0m\u001b[0;34m.\u001b[0m\u001b[0manimal1\u001b[0m\u001b[0;34m(\u001b[0m\u001b[0;34m)\u001b[0m\u001b[0;34m\u001b[0m\u001b[0;34m\u001b[0m\u001b[0m\n\u001b[0m",
            "\u001b[0;31mAttributeError\u001b[0m: 'animal1' object has no attribute 'animal1'"
          ]
        }
      ]
    },
    {
      "cell_type": "code",
      "source": [
        "#Abstraction--> It is a process of hiding unnecessary or complex information form the user or only want to show the relevant information details to the user.\n",
        "\n",
        "#Abstract method-With the help of this method ,we perform abstraction in Python.\n"
      ],
      "metadata": {
        "id": "C1zENpKG5t6y"
      },
      "execution_count": null,
      "outputs": []
    },
    {
      "cell_type": "code",
      "source": [
        "from abc import ABC, abstractmethod #importing abstractmethod\n",
        "\n",
        "class car(ABC)\n",
        "  def_init_(self, brand, model, year):\n",
        "    self.brand = brand\n",
        "    self.model = model\n",
        "    self.year = year\n",
        "\n",
        "  @abstractmethod\n",
        "  def info(self):\n",
        "    print(\"Engin is taking fuel and running the car\")\n",
        "    pass\n",
        "\n",
        "class child(car):\n",
        "  def info(self):\n",
        "    print(self.brand, self.model, self.year)\n",
        "\n",
        "\n",
        "obj1 = child(\"Audi\", \"12\", 2019)\n",
        "\n",
        "obj1.info()\n",
        "\n",
        "obj2 = Car(\"Nano\", \"13\", 2008)\n",
        "obj2.info()\n"
      ],
      "metadata": {
        "colab": {
          "base_uri": "https://localhost:8080/",
          "height": 106
        },
        "id": "lmg3Dz_U61hE",
        "outputId": "c870aa75-9524-4aa7-f8e6-3c7cbfd6be4d"
      },
      "execution_count": null,
      "outputs": [
        {
          "output_type": "error",
          "ename": "SyntaxError",
          "evalue": "expected ':' (<ipython-input-52-48b28837d367>, line 3)",
          "traceback": [
            "\u001b[0;36m  File \u001b[0;32m\"<ipython-input-52-48b28837d367>\"\u001b[0;36m, line \u001b[0;32m3\u001b[0m\n\u001b[0;31m    class car(ABC)\u001b[0m\n\u001b[0m                  ^\u001b[0m\n\u001b[0;31mSyntaxError\u001b[0m\u001b[0;31m:\u001b[0m expected ':'\n"
          ]
        }
      ]
    },
    {
      "cell_type": "code",
      "source": [
        "from abc import ABC , abstractmethod\n",
        "\n",
        "class RemoteControl(ABC):\n",
        "  @abstractmethod\n",
        "  def turn_on(self):\n",
        "    pass\n",
        "\n",
        "  @abstractmethod\n",
        "  def press_button(self):\n",
        "    print(\"How the remote is working\")\n",
        "\n",
        "class TV(Remote RemoteControl):\n",
        "  def press_button(self):\n",
        "    print(\"TV is turned on\")\n",
        "\n",
        "tv = TV()\n",
        "\n",
        "tv.press_button()\n",
        "\n",
        "tv1 = RemoteControl()\n",
        "tv1.press_button()"
      ],
      "metadata": {
        "colab": {
          "base_uri": "https://localhost:8080/",
          "height": 106
        },
        "id": "iNcATHkv824f",
        "outputId": "868f4add-8c98-4fb5-a544-bdccdd412f21"
      },
      "execution_count": null,
      "outputs": [
        {
          "output_type": "error",
          "ename": "SyntaxError",
          "evalue": "invalid syntax. Perhaps you forgot a comma? (<ipython-input-56-ab004af75f54>, line 12)",
          "traceback": [
            "\u001b[0;36m  File \u001b[0;32m\"<ipython-input-56-ab004af75f54>\"\u001b[0;36m, line \u001b[0;32m12\u001b[0m\n\u001b[0;31m    class TV(Remote RemoteControl):\u001b[0m\n\u001b[0m             ^\u001b[0m\n\u001b[0;31mSyntaxError\u001b[0m\u001b[0;31m:\u001b[0m invalid syntax. Perhaps you forgot a comma?\n"
          ]
        }
      ]
    },
    {
      "cell_type": "markdown",
      "source": [
        "NumPy-Numerical Python.\n",
        "This is a powerful librarry used for numerical computing.\n",
        "Arrays:-\n",
        "Features-\n",
        "Array vs.NumPy-\n",
        "NumPy-Faster performance than array\n",
        "    - NumPy is Multidimensional aarays\n",
        "    -Mathematical operations\n",
        "    -Integration-works well with other libraries.\n",
        "    -\n",
        "    -"
      ],
      "metadata": {
        "id": "KZru9V5RZQF-"
      }
    },
    {
      "cell_type": "code",
      "source": [
        "import numpy as np\n"
      ],
      "metadata": {
        "id": "Nr2POIxf97sK"
      },
      "execution_count": 3,
      "outputs": []
    },
    {
      "cell_type": "code",
      "source": [
        "array1 = np.array([1,2,3])\n",
        "array1"
      ],
      "metadata": {
        "colab": {
          "base_uri": "https://localhost:8080/"
        },
        "id": "wlTXMYw7eTV1",
        "outputId": "17338bd7-8f2c-4d9e-c73b-323e520ecdb1"
      },
      "execution_count": 7,
      "outputs": [
        {
          "output_type": "execute_result",
          "data": {
            "text/plain": [
              "array([1, 2, 3])"
            ]
          },
          "metadata": {},
          "execution_count": 7
        }
      ]
    },
    {
      "cell_type": "markdown",
      "source": [
        "The Number Of [](square brackets) = dimension of your array\n",
        "\n",
        "*   List item\n",
        "*   List item\n",
        "\n"
      ],
      "metadata": {
        "id": "U-ZPr-uTfx8P"
      }
    },
    {
      "cell_type": "code",
      "source": [
        "# Zero dimensional array\n",
        "#How to create 0-D array\n",
        "\n",
        "array2 = np.array(55)\n",
        "print(array2)\n",
        "\n",
        "print(array2.ndim)---> ndim: to check the dimension of the array\n"
      ],
      "metadata": {
        "colab": {
          "base_uri": "https://localhost:8080/"
        },
        "id": "uxQkXEB3f8qC",
        "outputId": "a98d2e6f-fc8c-4ee1-fb75-640f0b9ca9ed"
      },
      "execution_count": 9,
      "outputs": [
        {
          "output_type": "stream",
          "name": "stdout",
          "text": [
            "55\n",
            "0\n"
          ]
        }
      ]
    },
    {
      "cell_type": "code",
      "source": [
        "#How to create 1D array\n",
        "\n",
        "array3 = np.array([12,24,36,48])\n",
        "\n",
        "print(array3)\n",
        "print(array3.ndim)"
      ],
      "metadata": {
        "colab": {
          "base_uri": "https://localhost:8080/"
        },
        "id": "M6SJy7qEhdaN",
        "outputId": "273f811f-f536-4546-dd2d-623d8660f375"
      },
      "execution_count": 11,
      "outputs": [
        {
          "output_type": "stream",
          "name": "stdout",
          "text": [
            "[12 24 36 48]\n",
            "1\n"
          ]
        }
      ]
    },
    {
      "cell_type": "code",
      "source": [
        "#code check\n",
        "arr = np.array([[[[[[[[[[[[[[[[[[[[[[[[[]]]]]]]]]]]]]]]]]]]]]]]]])\n",
        "print(arr.ndim)"
      ],
      "metadata": {
        "colab": {
          "base_uri": "https://localhost:8080/"
        },
        "id": "IFg69vTvhze0",
        "outputId": "b2b71dc3-67f9-4687-9aa2-e4fda0c9e60c"
      },
      "execution_count": 12,
      "outputs": [
        {
          "output_type": "stream",
          "name": "stdout",
          "text": [
            "25\n"
          ]
        }
      ]
    },
    {
      "cell_type": "code",
      "source": [
        "#How to create a 2D array\n",
        "\n",
        "\n",
        "arr = np.array([[1,2,3,4],[5,6,7,8]])\n",
        "\n",
        "print(arr)\n",
        "print(arr.ndim)"
      ],
      "metadata": {
        "colab": {
          "base_uri": "https://localhost:8080/"
        },
        "id": "i7CPoWe5icCH",
        "outputId": "aedf30f1-c6e1-41a6-9a7c-ab4843b9609d"
      },
      "execution_count": 14,
      "outputs": [
        {
          "output_type": "stream",
          "name": "stdout",
          "text": [
            "[[1 2 3 4]\n",
            " [5 6 7 8]]\n",
            "2\n"
          ]
        }
      ]
    },
    {
      "cell_type": "code",
      "source": [
        "print(arr.shape) #--->Number of rows and columns, 2 rows and 4 columns"
      ],
      "metadata": {
        "colab": {
          "base_uri": "https://localhost:8080/"
        },
        "id": "dl8ogO7vkgSb",
        "outputId": "1c1c22fe-beed-48a2-f0ae-d1aa9a593a4e"
      },
      "execution_count": 18,
      "outputs": [
        {
          "output_type": "stream",
          "name": "stdout",
          "text": [
            "(2, 4)\n"
          ]
        }
      ]
    },
    {
      "cell_type": "code",
      "source": [
        "arr2 = np.array ([[1,2,3],[4,5,6],[6,7,8],[3,7,9]])\n",
        "\n",
        "\n",
        "print(arr2)"
      ],
      "metadata": {
        "colab": {
          "base_uri": "https://localhost:8080/"
        },
        "id": "AmfxZsRBkgAz",
        "outputId": "e5775780-292d-4e27-d312-5ef4b14cfb38"
      },
      "execution_count": 19,
      "outputs": [
        {
          "output_type": "stream",
          "name": "stdout",
          "text": [
            "[[1 2 3]\n",
            " [4 5 6]\n",
            " [6 7 8]\n",
            " [3 7 9]]\n"
          ]
        }
      ]
    },
    {
      "cell_type": "code",
      "source": [
        "arr2.ndim\n",
        "\n"
      ],
      "metadata": {
        "colab": {
          "base_uri": "https://localhost:8080/"
        },
        "id": "H0iGtDnklqMp",
        "outputId": "e85ff398-fa76-459e-8909-7340034139fc"
      },
      "execution_count": 23,
      "outputs": [
        {
          "output_type": "execute_result",
          "data": {
            "text/plain": [
              "2"
            ]
          },
          "metadata": {},
          "execution_count": 23
        }
      ]
    },
    {
      "cell_type": "code",
      "source": [
        "arr2.shape #no. of rows and columns"
      ],
      "metadata": {
        "colab": {
          "base_uri": "https://localhost:8080/"
        },
        "id": "2YhdeDkJmG-W",
        "outputId": "970dfd97-848d-4e99-a027-ab8947cd1ade"
      },
      "execution_count": 24,
      "outputs": [
        {
          "output_type": "execute_result",
          "data": {
            "text/plain": [
              "(4, 3)"
            ]
          },
          "metadata": {},
          "execution_count": 24
        }
      ]
    },
    {
      "cell_type": "code",
      "source": [
        "# How to create  a 3-d array-( if you add 2-2d array you can create a 3-d )\n",
        "\n",
        "\n",
        "arr3 = np.array([[ [1,2,3], [4,5,6]], [[3,4,5],[2,7,5]]])\n",
        "\n",
        "print(arr3)\n",
        "\n",
        "print(arr3.ndim)\n",
        "\n",
        "print(arr3.shape) #--->(no. of 2-d arrays you will have  no. of rows,no. of  columns)\n",
        "\n",
        "index-->0th(no. of blocks of 3-d),1st (number of rows in each block),2nd(number of columns in each block),3rd(number of elements in each block),4th(number of elements in each block)"
      ],
      "metadata": {
        "colab": {
          "base_uri": "https://localhost:8080/"
        },
        "id": "PFl6xut6mZjb",
        "outputId": "4bd44f7a-29b7-4236-d01c-766df1dd6a83"
      },
      "execution_count": 30,
      "outputs": [
        {
          "output_type": "stream",
          "name": "stdout",
          "text": [
            "[[[1 2 3]\n",
            "  [4 5 6]]\n",
            "\n",
            " [[3 4 5]\n",
            "  [2 7 5]]]\n",
            "3\n",
            "(2, 2, 3)\n"
          ]
        }
      ]
    },
    {
      "cell_type": "code",
      "source": [
        "#Array Indexing\n",
        "\n",
        "#--- access the element present in the array by using it's index value\n",
        "#  Access elements in 1-d array-I want to get element\n",
        "\n",
        "array1 = np.array ([12,34,45,67,89])\n",
        "\n",
        "print(array1[3])"
      ],
      "metadata": {
        "colab": {
          "base_uri": "https://localhost:8080/"
        },
        "id": "f9u8wGTUqiRN",
        "outputId": "f228f7ec-6ef5-4119-ccd0-a0e0f10e2155"
      },
      "execution_count": 34,
      "outputs": [
        {
          "output_type": "stream",
          "name": "stdout",
          "text": [
            "67\n"
          ]
        }
      ]
    },
    {
      "cell_type": "code",
      "source": [
        "arr = np.array([[1,2,4],[3,5,8]]) # Access element  in 2-d ,I want to get the element.\n",
        "\n",
        "print(arr[0,1]) #--->first you will get inside of the row and then you will fetch the index value"
      ],
      "metadata": {
        "colab": {
          "base_uri": "https://localhost:8080/"
        },
        "id": "teceKODPyQTV",
        "outputId": "87d711d0-c863-465a-e935-0a3d25dc9b87"
      },
      "execution_count": 35,
      "outputs": [
        {
          "output_type": "stream",
          "name": "stdout",
          "text": [
            "2\n"
          ]
        }
      ]
    },
    {
      "cell_type": "code",
      "source": [
        "arr = np.array([[111,22,45],[45,56,78]])\n",
        "print(arr[1,2])"
      ],
      "metadata": {
        "colab": {
          "base_uri": "https://localhost:8080/"
        },
        "id": "hyzPuZZByP6F",
        "outputId": "7ca0af22-3359-4d89-aa33-6303305e7417"
      },
      "execution_count": 37,
      "outputs": [
        {
          "output_type": "stream",
          "name": "stdout",
          "text": [
            "78\n"
          ]
        }
      ]
    },
    {
      "cell_type": "code",
      "source": [
        "#\n",
        "\n",
        "arr3 = np.array([[[1,2,3],[4,5,6]],[[7,8,9],[9,8,7]]])\n",
        "\n",
        "print(arr3)\n",
        "print(arr3[0,1,2])  #---"
      ],
      "metadata": {
        "colab": {
          "base_uri": "https://localhost:8080/"
        },
        "id": "_y1NsKwFz-rk",
        "outputId": "b1c2c972-106c-4a1b-f919-6c27cad9b99b"
      },
      "execution_count": 39,
      "outputs": [
        {
          "output_type": "stream",
          "name": "stdout",
          "text": [
            "[[[1 2 3]\n",
            "  [4 5 6]]\n",
            "\n",
            " [[7 8 9]\n",
            "  [9 8 7]]]\n",
            "6\n"
          ]
        }
      ]
    },
    {
      "cell_type": "markdown",
      "source": [
        "Array Slicing--"
      ],
      "metadata": {
        "id": "joRJdRAw12Ky"
      }
    },
    {
      "cell_type": "code",
      "source": [
        "array1 = np.array([18.11,53.34,65.17,78.54,98.35,45.28])\n",
        "print(array1[2:5])\n",
        "print(array1[2:6])"
      ],
      "metadata": {
        "colab": {
          "base_uri": "https://localhost:8080/"
        },
        "id": "wHA9rAKi2QLg",
        "outputId": "0223c18e-efe1-496d-b058-8eb77ebfa53c"
      },
      "execution_count": 42,
      "outputs": [
        {
          "output_type": "stream",
          "name": "stdout",
          "text": [
            "[65.17 78.54 98.35]\n",
            "[65.17 78.54 98.35 45.28]\n"
          ]
        }
      ]
    },
    {
      "cell_type": "code",
      "source": [
        "array2 = np.array ([12,2.2,45,3.5])\n",
        "print (array2[2:3])"
      ],
      "metadata": {
        "colab": {
          "base_uri": "https://localhost:8080/"
        },
        "id": "4fQ8Lv2S3PiQ",
        "outputId": "ec3bf041-d5d3-43ae-b5ee-6625dcca74ae"
      },
      "execution_count": 44,
      "outputs": [
        {
          "output_type": "stream",
          "name": "stdout",
          "text": [
            "[45.]\n"
          ]
        }
      ]
    },
    {
      "cell_type": "code",
      "source": [
        "# Slicing in 2-d array.\n",
        "arr = np.array([[1,2,3,4],[3,5,7,8]])\n",
        "print(arr[0,1:3])#--->first block number and then slicing"
      ],
      "metadata": {
        "colab": {
          "base_uri": "https://localhost:8080/"
        },
        "id": "LaybCNU_3nRT",
        "outputId": "6d73bc9e-e277-47f8-f7b4-6423f7022d1d"
      },
      "execution_count": 52,
      "outputs": [
        {
          "output_type": "stream",
          "name": "stdout",
          "text": [
            "[2 3]\n"
          ]
        }
      ]
    },
    {
      "cell_type": "code",
      "source": [
        "#Slicing in 3-d array\n",
        "\n",
        "arr3 = np.array([[[1,2,3],[4,5,6]],[[7,8,9],[6,7,8]]])\n",
        "\n",
        "print(arr3)\n",
        "\n",
        "print(arr3.shape)\n",
        "\n",
        "print(arr3[1,1,1:3]) #---1(1st block),1(row of that perticular block),1:3(from 1 to until 3-it will print from 1th index and 2nd index from that row)"
      ],
      "metadata": {
        "colab": {
          "base_uri": "https://localhost:8080/"
        },
        "id": "70S19gl745Ge",
        "outputId": "84492789-249c-4f41-b9c6-6dab2fb60967"
      },
      "execution_count": 58,
      "outputs": [
        {
          "output_type": "stream",
          "name": "stdout",
          "text": [
            "[[[1 2 3]\n",
            "  [4 5 6]]\n",
            "\n",
            " [[7 8 9]\n",
            "  [6 7 8]]]\n",
            "(2, 2, 3)\n",
            "[7 8]\n"
          ]
        }
      ]
    },
    {
      "cell_type": "markdown",
      "source": [
        "#Convert one type array to another"
      ],
      "metadata": {
        "id": "huDDVHHl7BSP"
      }
    },
    {
      "cell_type": "code",
      "source": [
        "#convert 1-d array to  4-d array\n",
        "\n",
        "data = [1,2,3,4,5,6,7,8]\n",
        "arr = np.array(data,ndmin=7)#---> ndmin-is used to convert any dimension\n",
        "print(arr)\n",
        "print(arr.ndim) #--->ndim-will give you the dimension"
      ],
      "metadata": {
        "colab": {
          "base_uri": "https://localhost:8080/"
        },
        "id": "DlRMvRyr6uU9",
        "outputId": "67901e66-2040-4b89-a3dc-8072dd7f6644"
      },
      "execution_count": 62,
      "outputs": [
        {
          "output_type": "stream",
          "name": "stdout",
          "text": [
            "[[[[[[[1 2 3 4 5 6 7 8]]]]]]]\n",
            "7\n"
          ]
        }
      ]
    },
    {
      "cell_type": "markdown",
      "source": [
        "# Reshape--> It will change the shape of your array according to rows, and columns"
      ],
      "metadata": {
        "id": "t8bzxoEC8nQZ"
      }
    },
    {
      "cell_type": "code",
      "source": [
        "arr = np.array([1,2,3,4,5,6,7,8,9,10]) #-->rows*col = Number of elements\n",
        "\n",
        "print(arr)\n",
        "print(arr.reshape(2,5))\n",
        "\n"
      ],
      "metadata": {
        "colab": {
          "base_uri": "https://localhost:8080/"
        },
        "id": "epHG3Ojp83A4",
        "outputId": "fd59906b-21c0-448f-b773-e67b744d6592"
      },
      "execution_count": 66,
      "outputs": [
        {
          "output_type": "stream",
          "name": "stdout",
          "text": [
            "[ 1  2  3  4  5  6  7  8  9 10]\n",
            "[[ 1  2  3  4  5]\n",
            " [ 6  7  8  9 10]]\n"
          ]
        }
      ]
    }
  ]
}