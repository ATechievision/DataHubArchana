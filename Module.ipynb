{
  "nbformat": 4,
  "nbformat_minor": 0,
  "metadata": {
    "colab": {
      "provenance": [],
      "authorship_tag": "ABX9TyNDR0Li9Fj+bKUaUdwF6L1Q",
      "include_colab_link": true
    },
    "kernelspec": {
      "name": "python3",
      "display_name": "Python 3"
    },
    "language_info": {
      "name": "python"
    }
  },
  "cells": [
    {
      "cell_type": "markdown",
      "metadata": {
        "id": "view-in-github",
        "colab_type": "text"
      },
      "source": [
        "<a href=\"https://colab.research.google.com/github/ATechievision/DataHubArchana/blob/main/Module.ipynb\" target=\"_parent\"><img src=\"https://colab.research.google.com/assets/colab-badge.svg\" alt=\"Open In Colab\"/></a>"
      ]
    },
    {
      "cell_type": "code",
      "execution_count": null,
      "metadata": {
        "id": "giYZnnU1RuBj"
      },
      "outputs": [],
      "source": [
        "def addition(a,b): #for the sum of tow values\n",
        " return a+b\n",
        "\n",
        "def subtraction(a,b): # for the difference of a & B\n",
        "  return a-b\n",
        "\n",
        "def multiplication (a,b): # for the product of a & b\n",
        "  return a*b\n",
        "\n",
        "def division (a,b): # for the division of a & b\n",
        "  return a/b\n"
      ]
    },
    {
      "cell_type": "code",
      "source": [
        "a = int(input(\"Enter the first number: \"))\n",
        "b = int(input(\"Enter the second number: \"))\n",
        "\n",
        "\n",
        "if a>b:\n",
        "  print(\"A=\",a,\"is greater\")\n",
        "else:\n",
        "  print(\"B=\",b,\" is greater\")"
      ],
      "metadata": {
        "colab": {
          "base_uri": "https://localhost:8080/"
        },
        "id": "_oan1l40Zxrw",
        "outputId": "a6aa2409-91b5-4520-b671-7f238233e7ff"
      },
      "execution_count": 1,
      "outputs": [
        {
          "output_type": "stream",
          "name": "stdout",
          "text": [
            "Enter the first number: 15\n",
            "Enter the second number: 20\n",
            "B= 20  is greater\n"
          ]
        }
      ]
    },
    {
      "cell_type": "markdown",
      "source": [
        "Write a number to check whether the given number is an armstrong number or not.\n",
        "\n",
        "Armstrong number is the number whose sum of cube of its digits is equal to the number.\n",
        "153 1,5,3 are the digits\n",
        "1^3=1\n",
        "s^3=125\n",
        "3^3=9\n",
        "1+125+27=153\n"
      ],
      "metadata": {
        "id": "aq6dTo0bazED"
      }
    },
    {
      "cell_type": "markdown",
      "source": [],
      "metadata": {
        "id": "WWVI9fpbaqv8"
      }
    },
    {
      "cell_type": "code",
      "source": [
        "num = int(input(\"Enter a number: \"))\n",
        "sum = 0\n",
        "\n",
        "temp = num\n",
        "while temp > 0:\n",
        "   digit = temp % 10\n",
        "   sum += digit ** 3  3 cube of the number\n",
        "   temp = temp //= 10\n",
        "\n",
        "if sum == num:\n",
        "   print(num,\"is an Armstrong number\")\n",
        "else:\n",
        "    print(num,\"is not an armstrong number\")"
      ],
      "metadata": {
        "colab": {
          "base_uri": "https://localhost:8080/",
          "height": 106
        },
        "id": "uv3wwKZMcFxA",
        "outputId": "2d1a4717-0dd9-4ca7-c638-57bc0f4db1b3"
      },
      "execution_count": 29,
      "outputs": [
        {
          "output_type": "error",
          "ename": "SyntaxError",
          "evalue": "invalid syntax (<ipython-input-29-6600399b1b93>, line 7)",
          "traceback": [
            "\u001b[0;36m  File \u001b[0;32m\"<ipython-input-29-6600399b1b93>\"\u001b[0;36m, line \u001b[0;32m7\u001b[0m\n\u001b[0;31m    sum += digit ** 3  3 cube of the number\u001b[0m\n\u001b[0m                       ^\u001b[0m\n\u001b[0;31mSyntaxError\u001b[0m\u001b[0;31m:\u001b[0m invalid syntax\n"
          ]
        }
      ]
    },
    {
      "cell_type": "code",
      "source": [
        "#Write a program to check a number is a prime number or not.\n",
        "\n",
        "\n",
        "# Prime number is  no. which is divisible by 1 and only itself.\n",
        "#e.g.- 2,3,5,7, 11.13- all these numbers are divisible by 1 or itself .So,they are prime numbers.\n",
        "# 4,6,8,9 -These are not prime numbers\n",
        "\n",
        "\n",
        "num = int(input(\"Enter a number: \")) #11\n",
        "\n",
        "\n",
        "if num >1: # 11>1 --yes\n",
        "   for i in range(2,num):   #2,3,....,10\n",
        "     if (num % i) == 0: #11 %2 ==1\n",
        "       print(num,\"is not a prime number.\")\n",
        "\n",
        "       break\n",
        "     else:\n",
        "       print(num,\"is a prime number.\")\n",
        "       break\n",
        "else:\n",
        "  print(num,\"is not a prime number.\")"
      ],
      "metadata": {
        "colab": {
          "base_uri": "https://localhost:8080/"
        },
        "id": "jLmN-d_Zmb5M",
        "outputId": "9af4ea8a-9726-4c40-c5a7-7656dbde6379"
      },
      "execution_count": 8,
      "outputs": [
        {
          "output_type": "stream",
          "name": "stdout",
          "text": [
            "Enter a number: 11\n",
            "11 is a prime number.\n"
          ]
        }
      ]
    },
    {
      "cell_type": "code",
      "source": [
        "#Create a calculator program for addition, subtraction, multiplication and floor division.\n",
        "# Take the inputs from the user , an based on the choice og operation.\n",
        "\n",
        "a= int(input (\"Enter the first no. :\"))\n",
        "b= int(input (\"Enter the second no. :\"))\n",
        "c= input(\"Enter the operation you want to perform(+,-,*,/):\")\n",
        "\n",
        "print(a)\n",
        "print(b)\n",
        "\n",
        "def addition(a,b):\n",
        " return a+b\n",
        "\n",
        "def subtraction(a,b):\n",
        " return a-b\n",
        "\n",
        "def multiplication(a,b):\n",
        "  return a*b\n",
        "\n",
        "def division(a,b):\n",
        "  return a//b\n",
        "\n",
        "  n1 = int(input(\"Entert 1st number:\"))\n",
        "  n2 = int(input(\"Enter 2nd number:\"))\n",
        "\n",
        "  choice = input(\"Enter your choice of operation (+,-,*,/):\")\n",
        "\n",
        "  if (choice ==\"add\" or choice == \"Add\" or choice ==\"addition\" or choice ==\"Addition\" or choice == \"+\"):\n",
        "     res=addition(n1,n2) #res-result\n",
        "  print(\"Addition of the numbers : \",res)\n",
        "\n",
        "  elif (choice ==\"sub\" or choice ==\"Sub\" or choice ==\"subtraction\" or choice ==\"Subtraction\" or choice== \"-\"):\n",
        "     res=subtraction(n1,n2)\n",
        "  print(\"Subtraction of the numbers : \",res)\n",
        "\n",
        "  elif (choice ==\"mul\" or choice == \"Mul\" or choice ==\"multiplication\" or choice ==\"Multiplication\" or choice == \"*\"):\n",
        "     res=multiplication(n1,n2)\n",
        "     print(\"Multiplication of the numbers : \",res)\n",
        "\n",
        "  elif (choice ==\"div\" or choice == \"Div\" or choice ==\"division\" or choice ==\"Division\" or choice == \"/\"):\n",
        "     res=division(n1,n2)\n",
        "     print(\"Division of the numbers : \",res)\n",
        "\n",
        "else:\n",
        "  print(\"Invalid operation\")\n",
        "\n",
        "# if c == '+':\n",
        "#   print(addition(a,b))\n",
        "# elif c == '-':\n",
        "#   print(subtraction(a,b))\n",
        "# elif c == '*':\n",
        "#   print(multiplication(a,b))\n",
        "# elif c == '/':\n",
        "#   print(division(a,b))"
      ],
      "metadata": {
        "colab": {
          "base_uri": "https://localhost:8080/",
          "height": 106
        },
        "id": "3EUZMbj5p_CX",
        "outputId": "f5dcc405-f0fd-4a99-9182-9b3a9773a893"
      },
      "execution_count": 50,
      "outputs": [
        {
          "output_type": "error",
          "ename": "SyntaxError",
          "evalue": "invalid syntax (<ipython-input-50-0cd1c21c2d0e>, line 32)",
          "traceback": [
            "\u001b[0;36m  File \u001b[0;32m\"<ipython-input-50-0cd1c21c2d0e>\"\u001b[0;36m, line \u001b[0;32m32\u001b[0m\n\u001b[0;31m    elif choice in [\"sub\", \"Sub\", \"subtraction\", \"Subtraction\", \"-\"]:\u001b[0m\n\u001b[0m    ^\u001b[0m\n\u001b[0;31mSyntaxError\u001b[0m\u001b[0;31m:\u001b[0m invalid syntax\n"
          ]
        }
      ]
    },
    {
      "cell_type": "code",
      "source": [
        "# Write a program to create a fibonacci sequence using python if else statements.\n",
        "#The next term is the sum of the last two\n",
        "#0,1,1,2,3,5,8......upto any term\n",
        "\n",
        "\n",
        "nterms = int (input(\"Enter the number of terms:\"))\n",
        "\n",
        "n1,n2 = 0,1\n",
        "count = 0\n",
        "\n",
        "if nterms <= 0:\n",
        "  print(\"Enter a positive number.\")\n",
        "elif nterms ==1:\n",
        "  print(\"Fibonacci sequence upto\", nterms,\":\")\n",
        "  print(n1)\n",
        "else:\n",
        "  print(\"Fibonacci sequence:\")\n",
        "  while count< nterms:\n",
        "    print(n1)\n",
        "    nth = n1 + n2\n",
        "    n1 = n2\n",
        "    n2 = nth\n",
        "    count += 1\n",
        "\n",
        "\n"
      ],
      "metadata": {
        "colab": {
          "base_uri": "https://localhost:8080/"
        },
        "id": "nwXr-rFYurCc",
        "outputId": "bb42aea8-00b6-471b-c630-f0cb69a28c69"
      },
      "execution_count": 24,
      "outputs": [
        {
          "output_type": "stream",
          "name": "stdout",
          "text": [
            "Enter the number of terms:10\n",
            "Fibonacci sequence:\n",
            "0\n",
            "1\n",
            "1\n",
            "2\n",
            "3\n",
            "5\n",
            "8\n",
            "13\n",
            "21\n",
            "34\n"
          ]
        }
      ]
    },
    {
      "cell_type": "code",
      "source": [
        "#Write a program to find factorial of a number.\n",
        "\n",
        "num = int(input(\"Enter a number: \"))"
      ],
      "metadata": {
        "id": "ozOWxpRLy38-"
      },
      "execution_count": null,
      "outputs": []
    },
    {
      "cell_type": "code",
      "source": [
        "#Write a program to check a number is odd or even.\n",
        "#even numbers divisible by 2 ,remainder--0\n",
        "#odd numbers not divisble by 2,remainder--1\n",
        "\n",
        "num = int(input(\"Enter a number: \"))\n",
        "\n",
        "if num%2==0:\n",
        "  print(\"The number is even.\")\n",
        "else:\n",
        "  print (\"The number is odd.\")\n",
        ""
      ],
      "metadata": {
        "colab": {
          "base_uri": "https://localhost:8080/"
        },
        "id": "XEl8PGULy-TL",
        "outputId": "2d471527-a5ea-41e5-f9bf-7acb2316875d"
      },
      "execution_count": 1,
      "outputs": [
        {
          "output_type": "stream",
          "name": "stdout",
          "text": [
            "Enter a number: 5\n",
            "The number is odd.\n"
          ]
        }
      ]
    },
    {
      "cell_type": "code",
      "source": [
        "#Create a nested deictionary with vaues as nested list for each key in the dictionary.\n",
        "\n",
        "#nested_dictionary\n",
        "\n",
        "nested_dict = {\n",
        "    'key1': [[1,2,3], [4,5],6],\n",
        "    'key2': [[\"a\",\"b\"], \"c\", \"d\"],\n",
        "    'key3': [[True,False]]\n",
        "}\n",
        "\n",
        "nested_dict\n",
        "\n",
        "print(type(nested_dict))"
      ],
      "metadata": {
        "colab": {
          "base_uri": "https://localhost:8080/"
        },
        "id": "f3kormlXZ1lX",
        "outputId": "bb264ba6-8d0d-4bcb-c026-c2bcd3029fe9"
      },
      "execution_count": 4,
      "outputs": [
        {
          "output_type": "stream",
          "name": "stdout",
          "text": [
            "<class 'dict'>\n"
          ]
        }
      ]
    },
    {
      "cell_type": "code",
      "source": [
        "#Cretae two sets and perform the following:\n",
        "#a. Union of he twosets\n",
        "#b.Intersection of the two sets\n",
        "\n",
        "\n",
        "#Set- Is an unordered collection of data i.e, unique.\n",
        "\n",
        "#{}-curley braces for creating a set.\n",
        "# set1 = {1,2,3,4}\n",
        "\n",
        "set1 = {1,2,3,4}\n",
        "set2 = {3,4,5,6}\n",
        "\n",
        "union_set = set1 | set2\n",
        "print(union_set)\n",
        "\n",
        "intersection_set = set1 & set2\n",
        "print(intersection_set)\n",
        "\n",
        "#INTERSECTION will returna new set containing only the common values.\n",
        "\n",
        "print(set1.union(set2)) #union of a & b,union operator,checks for unique values,unique os those two sets\n",
        "print(set1.intersection(set2)) #intersection of a & b\n",
        "\n",
        "set3 = {\"ram\", \"Shyam\", \"ram\" , \"alex\"}\n",
        "print(set3)\n",
        "\n",
        "\n",
        "list4 = [1,2,2,3,4,4,5,6]\n",
        "set4 = set(list4) # converting list into set with the help of set()\n",
        "print(set4)\n",
        "\n"
      ],
      "metadata": {
        "colab": {
          "base_uri": "https://localhost:8080/"
        },
        "id": "lCHlPnItcTKv",
        "outputId": "c4287803-bd3a-41a8-bb28-e728c077c834"
      },
      "execution_count": 15,
      "outputs": [
        {
          "output_type": "stream",
          "name": "stdout",
          "text": [
            "{1, 2, 3, 4, 5, 6}\n",
            "{3, 4}\n",
            "{'Shyam', 'alex', 'ram'}\n",
            "{1, 2, 3, 4, 5, 6}\n"
          ]
        }
      ]
    },
    {
      "cell_type": "code",
      "source": [
        "# Create two sets and return the union  and intersection of those two sets.\n",
        "\n",
        "\n",
        "x = {\"a\",\"b\",\"c\",\"d\",\"a\",\"d\"}\n",
        "y = {\"c\",\"d\",\"e\",\"f\",\"f\",\"g\"}\n",
        "\n",
        "print(x.union(y))\n",
        "print(x.intersection(y))\n"
      ],
      "metadata": {
        "colab": {
          "base_uri": "https://localhost:8080/"
        },
        "id": "SsWFH2P8im6H",
        "outputId": "80d52c0e-3399-4801-acc0-2c9cfd1412f2"
      },
      "execution_count": 20,
      "outputs": [
        {
          "output_type": "stream",
          "name": "stdout",
          "text": [
            "{'c', 'a', 'd', 'b', 'f', 'g', 'e'}\n",
            "{'c', 'd'}\n"
          ]
        }
      ]
    },
    {
      "cell_type": "code",
      "source": [
        "set_1={2,5,3,6,True,False}\n",
        "set_2={1,0,\"Archana\", \"Manasa\",\"Atul\",5,3}\n",
        "\n",
        "set_1.union(set_2)\n",
        "set_1.intersection(set_2)"
      ],
      "metadata": {
        "colab": {
          "base_uri": "https://localhost:8080/"
        },
        "id": "W8eyLl1jkUfo",
        "outputId": "9b5496cf-c2b5-4a42-eff6-31937d2a8d8d"
      },
      "execution_count": 24,
      "outputs": [
        {
          "output_type": "execute_result",
          "data": {
            "text/plain": [
              "{False, True, 3, 5}"
            ]
          },
          "metadata": {},
          "execution_count": 24
        }
      ]
    },
    {
      "cell_type": "code",
      "source": [
        "#Create a nested tuple from the dictionary, with each item in the tuple a key value pair form the dictionary.\n",
        "# nested_tuple = (\n",
        "#     {'key1':1},2,3, (4,5),6),\n",
        "#     {'key2': \"a\"},\"b\", \"c\", \"d\"),\n",
        "#     {(True, False)\n",
        "# )\n",
        "\n",
        "# print(nested_tuple)\n",
        "\n",
        "\n",
        "dict1 = {\n",
        "    \"key1\" : \"archana\" ,\n",
        "    \"key2\" : \"manasa\"\n",
        "}\n",
        "\n",
        "dict2 = {\n",
        "    \"key3\" : \"x\" ,\n",
        "    \"key4\" : \"y\"\n",
        "}\n",
        "\n",
        "dict3 = {\n",
        "    1 : dict1 ,\n",
        "    2 : dict2\n",
        "}\n",
        "\n",
        "nested_tuple= tuple((key,value) for key, value in dict3.items())\n",
        "print(nested_tuple)\n",
        "\n",
        "# print(dict3.items)\n",
        "# for key,value in dict3.items():\n",
        "#   print(key,value)\n"
      ],
      "metadata": {
        "colab": {
          "base_uri": "https://localhost:8080/"
        },
        "id": "wZXZKV24lvCT",
        "outputId": "ab076f0c-6bda-4baa-cb09-71a64ae8044a"
      },
      "execution_count": 33,
      "outputs": [
        {
          "output_type": "stream",
          "name": "stdout",
          "text": [
            "((1, {'key1': 'archana', 'key2': 'manasa'}), (2, {'key3': 'x', 'key4': 'y'}))\n",
            "<built-in method items of dict object at 0x7dcd0313ddc0>\n",
            "1 {'key1': 'archana', 'key2': 'manasa'}\n",
            "2 {'key3': 'x', 'key4': 'y'}\n"
          ]
        }
      ]
    },
    {
      "cell_type": "code",
      "source": [
        "#create a list of 50 even natural numbers, and perform the following operations.\n",
        "\n",
        "# num = int(input(\"Enter a number: \"))\n",
        "\n",
        "# if num%2==0:\n",
        "#   print(\"The number is even.\")\n",
        "# else:\n",
        "#   print (\"The number is odd.\")\n",
        "\n",
        "# list_1 = []\n",
        "\n",
        "# for i in range(1,101):\n",
        "#   if i%2==0:\n",
        "#     list_1.append(i)\n",
        "# print(list_1)\n",
        "\n",
        "list2 = [i for i in range(2,102,2)]\n",
        "print(list2)"
      ],
      "metadata": {
        "colab": {
          "base_uri": "https://localhost:8080/"
        },
        "id": "pkJCO0z7pW9B",
        "outputId": "8e933018-b88d-4684-d84f-735e9d2c4c5d"
      },
      "execution_count": 40,
      "outputs": [
        {
          "output_type": "stream",
          "name": "stdout",
          "text": [
            "[2, 4, 6, 8, 10, 12, 14, 16, 18, 20, 22, 24, 26, 28, 30, 32, 34, 36, 38, 40, 42, 44, 46, 48, 50, 52, 54, 56, 58, 60, 62, 64, 66, 68, 70, 72, 74, 76, 78, 80, 82, 84, 86, 88, 90, 92, 94, 96, 98, 100]\n"
          ]
        }
      ]
    },
    {
      "cell_type": "code",
      "source": [
        "# list3 = [2*i for i in range(1,51)]\n",
        "# print(list3)\n",
        "# count= len(list3)\n",
        "# print(\"No. of elements in the list:\",count)\n",
        "\n",
        "# reversed_list = list3[::-1]\n",
        "# print(reversed_list)\n",
        "\n",
        "# #Sort the list in ascednding order\n",
        "\n",
        "# ascending_order = sorted(list3)\n",
        "# print(ascending_order)\n",
        "\n",
        "#Descending order\n",
        "\n",
        "# descending_order = sorted(list3, reverse=True)\n",
        "# print(descending_order)\n",
        "\n",
        "#index\n",
        "index_44 = list3.index(44)\n",
        "print(index_44)"
      ],
      "metadata": {
        "colab": {
          "base_uri": "https://localhost:8080/"
        },
        "id": "m-ZDLi1gxY20",
        "outputId": "58dc072a-09c1-4085-c5ba-b6cca590be08"
      },
      "execution_count": 56,
      "outputs": [
        {
          "output_type": "stream",
          "name": "stdout",
          "text": [
            "21\n"
          ]
        }
      ]
    },
    {
      "cell_type": "code",
      "source": [
        "index_10 = list3.index(10)\n",
        "print(index_10)"
      ],
      "metadata": {
        "colab": {
          "base_uri": "https://localhost:8080/"
        },
        "id": "D9SMGLLE1U5_",
        "outputId": "9c77882f-f966-4f2d-e230-4f0950ac88cf"
      },
      "execution_count": 57,
      "outputs": [
        {
          "output_type": "stream",
          "name": "stdout",
          "text": [
            "4\n"
          ]
        }
      ]
    },
    {
      "cell_type": "code",
      "source": [
        "print(list3.index(20))"
      ],
      "metadata": {
        "colab": {
          "base_uri": "https://localhost:8080/"
        },
        "id": "DO2Co6U-1kL3",
        "outputId": "1724de3d-5887-410f-c72c-e184f3e695fb"
      },
      "execution_count": 58,
      "outputs": [
        {
          "output_type": "stream",
          "name": "stdout",
          "text": [
            "9\n"
          ]
        }
      ]
    },
    {
      "cell_type": "code",
      "source": [
        "\n",
        "list3[index_44] = 100\n",
        "list3\n",
        "\n"
      ],
      "metadata": {
        "colab": {
          "base_uri": "https://localhost:8080/"
        },
        "id": "bKnVK-Y31xlD",
        "outputId": "0c93644d-17e8-47c1-afed-f747ce3e270d"
      },
      "execution_count": 63,
      "outputs": [
        {
          "output_type": "execute_result",
          "data": {
            "text/plain": [
              "[2,\n",
              " 4,\n",
              " 6,\n",
              " 8,\n",
              " 10,\n",
              " 12,\n",
              " 14,\n",
              " 16,\n",
              " 18,\n",
              " 20,\n",
              " 22,\n",
              " 24,\n",
              " 26,\n",
              " 28,\n",
              " 30,\n",
              " 32,\n",
              " 34,\n",
              " 36,\n",
              " 38,\n",
              " 40,\n",
              " 42,\n",
              " 100,\n",
              " 46,\n",
              " 48,\n",
              " 50,\n",
              " 52,\n",
              " 54,\n",
              " 56,\n",
              " 58,\n",
              " 60,\n",
              " 62,\n",
              " 64,\n",
              " 66,\n",
              " 68,\n",
              " 70,\n",
              " 72,\n",
              " 74,\n",
              " 76,\n",
              " 78,\n",
              " 80,\n",
              " 82,\n",
              " 84,\n",
              " 86,\n",
              " 88,\n",
              " 90,\n",
              " 92,\n",
              " 94,\n",
              " 96,\n",
              " 98,\n",
              " 100]"
            ]
          },
          "metadata": {},
          "execution_count": 63
        }
      ]
    },
    {
      "cell_type": "code",
      "source": [
        "squared_list = [num**2 for num in list3]\n",
        "squared_list"
      ],
      "metadata": {
        "colab": {
          "base_uri": "https://localhost:8080/"
        },
        "id": "u3z9zC3R28h3",
        "outputId": "15a71def-048b-4dcd-c0f2-f78da24ff8f8"
      },
      "execution_count": 64,
      "outputs": [
        {
          "output_type": "execute_result",
          "data": {
            "text/plain": [
              "[4,\n",
              " 16,\n",
              " 36,\n",
              " 64,\n",
              " 100,\n",
              " 144,\n",
              " 196,\n",
              " 256,\n",
              " 324,\n",
              " 400,\n",
              " 484,\n",
              " 576,\n",
              " 676,\n",
              " 784,\n",
              " 900,\n",
              " 1024,\n",
              " 1156,\n",
              " 1296,\n",
              " 1444,\n",
              " 1600,\n",
              " 1764,\n",
              " 10000,\n",
              " 2116,\n",
              " 2304,\n",
              " 2500,\n",
              " 2704,\n",
              " 2916,\n",
              " 3136,\n",
              " 3364,\n",
              " 3600,\n",
              " 3844,\n",
              " 4096,\n",
              " 4356,\n",
              " 4624,\n",
              " 4900,\n",
              " 5184,\n",
              " 5476,\n",
              " 5776,\n",
              " 6084,\n",
              " 6400,\n",
              " 6724,\n",
              " 7056,\n",
              " 7396,\n",
              " 7744,\n",
              " 8100,\n",
              " 8464,\n",
              " 8836,\n",
              " 9216,\n",
              " 9604,\n",
              " 10000]"
            ]
          },
          "metadata": {},
          "execution_count": 64
        }
      ]
    },
    {
      "cell_type": "markdown",
      "source": [],
      "metadata": {
        "id": "1iTZnVxQ4HFr"
      }
    },
    {
      "cell_type": "markdown",
      "source": [
        "#For the given strings A= \"Python programming language\" , B = \"Best in the World\",perform the following operations.\n",
        "#Using indexing operations, get the text \"gram\" rom the string A.m\n",
        "#Using indexing operations ,get the text \"World\" from the string B.n.\n",
        "#Change the letters in both strings to uppercase letters.o.\n",
        "#Concatenate the two strings."
      ],
      "metadata": {
        "id": "btPZ5X-e4Rhf"
      }
    },
    {
      "cell_type": "markdown",
      "source": [],
      "metadata": {
        "id": "OrSFQ8zV4EOn"
      }
    },
    {
      "cell_type": "code",
      "source": [
        "A = \"Python Programming Language\"\n",
        "B = \"Best In The World\"\n",
        "print(A)\n",
        "print(B)\n",
        "\n"
      ],
      "metadata": {
        "colab": {
          "base_uri": "https://localhost:8080/"
        },
        "id": "n4L9ZOkW4Vho",
        "outputId": "3085183d-49eb-4a7f-942e-5296652afa75"
      },
      "execution_count": 66,
      "outputs": [
        {
          "output_type": "stream",
          "name": "stdout",
          "text": [
            "Python Programming Language\n",
            "Best In The World\n"
          ]
        }
      ]
    },
    {
      "cell_type": "code",
      "source": [
        "A[10:14]"
      ],
      "metadata": {
        "colab": {
          "base_uri": "https://localhost:8080/",
          "height": 36
        },
        "id": "wGJoMXMF4xcu",
        "outputId": "32f3811e-92fd-4d8c-962e-6f34680227f2"
      },
      "execution_count": 67,
      "outputs": [
        {
          "output_type": "execute_result",
          "data": {
            "text/plain": [
              "'gram'"
            ],
            "application/vnd.google.colaboratory.intrinsic+json": {
              "type": "string"
            }
          },
          "metadata": {},
          "execution_count": 67
        }
      ]
    },
    {
      "cell_type": "code",
      "source": [
        "B[-5:]"
      ],
      "metadata": {
        "colab": {
          "base_uri": "https://localhost:8080/",
          "height": 36
        },
        "id": "lvph9uyz49lt",
        "outputId": "079e9a10-f36b-4b75-8ae6-bf43ba06b763"
      },
      "execution_count": 71,
      "outputs": [
        {
          "output_type": "execute_result",
          "data": {
            "text/plain": [
              "'World'"
            ],
            "application/vnd.google.colaboratory.intrinsic+json": {
              "type": "string"
            }
          },
          "metadata": {},
          "execution_count": 71
        }
      ]
    },
    {
      "cell_type": "code",
      "source": [
        "B[-9:-6]"
      ],
      "metadata": {
        "colab": {
          "base_uri": "https://localhost:8080/",
          "height": 36
        },
        "id": "owmZVfpF5eSr",
        "outputId": "43462475-324d-4d4b-e57d-01a16a7fe6ef"
      },
      "execution_count": 72,
      "outputs": [
        {
          "output_type": "execute_result",
          "data": {
            "text/plain": [
              "'The'"
            ],
            "application/vnd.google.colaboratory.intrinsic+json": {
              "type": "string"
            }
          },
          "metadata": {},
          "execution_count": 72
        }
      ]
    },
    {
      "cell_type": "code",
      "source": [
        "A.upper()\n",
        "B.upper()"
      ],
      "metadata": {
        "colab": {
          "base_uri": "https://localhost:8080/",
          "height": 36
        },
        "id": "np5DToyp5rBF",
        "outputId": "fba9955e-3793-4a2d-e8bf-6c198538e648"
      },
      "execution_count": 74,
      "outputs": [
        {
          "output_type": "execute_result",
          "data": {
            "text/plain": [
              "'BEST IN THE WORLD'"
            ],
            "application/vnd.google.colaboratory.intrinsic+json": {
              "type": "string"
            }
          },
          "metadata": {},
          "execution_count": 74
        }
      ]
    },
    {
      "cell_type": "code",
      "source": [
        "conC = A + \" ,\" + B\n",
        "print(conC)"
      ],
      "metadata": {
        "colab": {
          "base_uri": "https://localhost:8080/"
        },
        "id": "JHEOY-uI6GmT",
        "outputId": "e5fae277-917b-4ff0-c9b4-6242c63bbeac"
      },
      "execution_count": 79,
      "outputs": [
        {
          "output_type": "stream",
          "name": "stdout",
          "text": [
            "Python Programming Language ,Best In The World\n"
          ]
        }
      ]
    },
    {
      "cell_type": "markdown",
      "source": [
        "#Create a list with n numbers, and using negative indexing return the list starting from the 5th\n",
        "index to the n-2th index.\n",
        "#Using range() , create a list with numbers ranging from 5-100, and the number of elements should be exactly 19..\n",
        "range (starting_index : ending_index : step_/size)"
      ],
      "metadata": {
        "id": "2uY9_7sX6cFY"
      }
    },
    {
      "cell_type": "code",
      "source": [],
      "metadata": {
        "id": "dEWhAWfA7EUk"
      },
      "execution_count": null,
      "outputs": []
    },
    {
      "cell_type": "code",
      "source": [
        "#Count the number of elements in the list\n"
      ],
      "metadata": {
        "colab": {
          "base_uri": "https://localhost:8080/",
          "height": 158
        },
        "id": "hhk4HbGlxrQO",
        "outputId": "f72dad8c-9db8-4a89-8aa3-9953d57abd2d"
      },
      "execution_count": 43,
      "outputs": [
        {
          "output_type": "error",
          "ename": "NameError",
          "evalue": "name 'count' is not defined",
          "traceback": [
            "\u001b[0;31m---------------------------------------------------------------------------\u001b[0m",
            "\u001b[0;31mNameError\u001b[0m                                 Traceback (most recent call last)",
            "\u001b[0;32m<ipython-input-43-b91614d38627>\u001b[0m in \u001b[0;36m<cell line: 0>\u001b[0;34m()\u001b[0m\n\u001b[1;32m      1\u001b[0m \u001b[0;31m#Count the number of elements in the list\u001b[0m\u001b[0;34m\u001b[0m\u001b[0;34m\u001b[0m\u001b[0m\n\u001b[0;32m----> 2\u001b[0;31m \u001b[0mcount\u001b[0m\u001b[0;34m(\u001b[0m\u001b[0mlist3\u001b[0m\u001b[0;34m)\u001b[0m\u001b[0;34m\u001b[0m\u001b[0;34m\u001b[0m\u001b[0m\n\u001b[0m",
            "\u001b[0;31mNameError\u001b[0m: name 'count' is not defined"
          ]
        }
      ]
    }
  ]
}