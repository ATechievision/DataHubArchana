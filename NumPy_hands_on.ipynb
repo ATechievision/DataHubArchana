{
  "nbformat": 4,
  "nbformat_minor": 0,
  "metadata": {
    "colab": {
      "provenance": [],
      "authorship_tag": "ABX9TyNmswMORuUKFSWgC4dz8iRn",
      "include_colab_link": true
    },
    "kernelspec": {
      "name": "python3",
      "display_name": "Python 3"
    },
    "language_info": {
      "name": "python"
    }
  },
  "cells": [
    {
      "cell_type": "markdown",
      "metadata": {
        "id": "view-in-github",
        "colab_type": "text"
      },
      "source": [
        "<a href=\"https://colab.research.google.com/github/ATechievision/DataHubArchana/blob/main/NumPy_hands_on.ipynb\" target=\"_parent\"><img src=\"https://colab.research.google.com/assets/colab-badge.svg\" alt=\"Open In Colab\"/></a>"
      ]
    },
    {
      "cell_type": "code",
      "execution_count": 5,
      "metadata": {
        "colab": {
          "base_uri": "https://localhost:8080/"
        },
        "id": "tbLMRhb7lHyk",
        "outputId": "b7971a3b-efc7-42d1-9ee3-79a319b28b48"
      },
      "outputs": [
        {
          "output_type": "stream",
          "name": "stdout",
          "text": [
            "[[1. 0.]\n",
            " [0. 1.]]\n",
            "[[1. 0. 0.]\n",
            " [0. 1. 0.]\n",
            " [0. 0. 1.]]\n",
            "[[1. 0. 0. 0.]\n",
            " [0. 1. 0. 0.]\n",
            " [0. 0. 1. 0.]\n",
            " [0. 0. 0. 1.]]\n"
          ]
        }
      ],
      "source": [
        "#3.Create a 2x2 ,3x3,4x4 identity matrix using numpy.\n",
        "\n",
        "import numpy as np\n",
        "a=np.identity(2)\n",
        "print(a)\n",
        "b=np.identity(3)\n",
        "print(b)\n",
        "c=np.identity(4)\n",
        "print(c)"
      ]
    },
    {
      "cell_type": "code",
      "source": [
        "#Identity matrix-all the diagonal will be 1 and all the non-diogonal element will be  0.\n",
        "\n",
        "arr = np.identity(2) # 2x2\n",
        "print(arr)\n",
        "\n",
        "arr1 = np.identity(3) # 3x3\n",
        "print(arr1)\n",
        "\n",
        "arr2 = np.identity(4)# 4x4\n",
        "print(arr2)"
      ],
      "metadata": {
        "colab": {
          "base_uri": "https://localhost:8080/"
        },
        "id": "ZowzeTLFmAHY",
        "outputId": "86f9f707-baed-476b-db1b-21b82c6b7fd3"
      },
      "execution_count": 4,
      "outputs": [
        {
          "output_type": "stream",
          "name": "stdout",
          "text": [
            "[[1. 0.]\n",
            " [0. 1.]]\n",
            "[[1. 0. 0.]\n",
            " [0. 1. 0.]\n",
            " [0. 0. 1.]]\n",
            "[[1. 0. 0. 0.]\n",
            " [0. 1. 0. 0.]\n",
            " [0. 0. 1. 0.]\n",
            " [0. 0. 0. 1.]]\n"
          ]
        }
      ]
    },
    {
      "cell_type": "code",
      "source": [
        "arr = np.eye(2,3) # pass any shape to create identity matrix\n",
        "print(arr)"
      ],
      "metadata": {
        "colab": {
          "base_uri": "https://localhost:8080/"
        },
        "id": "cZZmxTxInKwR",
        "outputId": "391ab7b6-0395-48c8-82f7-90b261c07c27"
      },
      "execution_count": 6,
      "outputs": [
        {
          "output_type": "stream",
          "name": "stdout",
          "text": [
            "[[1. 0. 0.]\n",
            " [0. 1. 0.]]\n"
          ]
        }
      ]
    },
    {
      "cell_type": "code",
      "source": [
        "# How to decide the shape\n",
        "\n",
        "arr = np.eye(3)\n",
        "print(arr)"
      ],
      "metadata": {
        "colab": {
          "base_uri": "https://localhost:8080/"
        },
        "id": "7f3RidhFnpbu",
        "outputId": "2cbca80c-c56b-412b-f325-0c7f0ca74810"
      },
      "execution_count": 7,
      "outputs": [
        {
          "output_type": "stream",
          "name": "stdout",
          "text": [
            "[[1. 0. 0.]\n",
            " [0. 1. 0.]\n",
            " [0. 0. 1.]]\n"
          ]
        }
      ]
    },
    {
      "cell_type": "markdown",
      "source": [
        "4.Create a numpy array with shape 2x5 that has all the elements as zero.\n"
      ],
      "metadata": {
        "id": "ql3NZk5vogsy"
      }
    },
    {
      "cell_type": "code",
      "source": [
        "arr = np.zeros((2,5)) # return float values and can be converted into integer using dtype='int'\n",
        "print(arr)"
      ],
      "metadata": {
        "colab": {
          "base_uri": "https://localhost:8080/"
        },
        "id": "-wpqH3AdorSu",
        "outputId": "78988edb-a297-46e6-9415-7e316d5718ae"
      },
      "execution_count": 10,
      "outputs": [
        {
          "output_type": "stream",
          "name": "stdout",
          "text": [
            "[[0. 0. 0. 0. 0.]\n",
            " [0. 0. 0. 0. 0.]]\n"
          ]
        }
      ]
    },
    {
      "cell_type": "code",
      "source": [
        "# prompt: .Create a numpy array with shape 2x5 that has all the elements as zero.\n",
        "\n",
        "import numpy as np\n",
        "\n",
        "arr = np.zeros((2, 5))\n",
        "arr\n"
      ],
      "metadata": {
        "colab": {
          "base_uri": "https://localhost:8080/"
        },
        "id": "OWaCY_93pCFE",
        "outputId": "a584102a-5029-4e61-c02d-24bfcad4e6a0"
      },
      "execution_count": 9,
      "outputs": [
        {
          "output_type": "execute_result",
          "data": {
            "text/plain": [
              "array([[0., 0., 0., 0., 0.],\n",
              "       [0., 0., 0., 0., 0.]])"
            ]
          },
          "metadata": {},
          "execution_count": 9
        }
      ]
    },
    {
      "cell_type": "code",
      "source": [
        "arr = np.ones((2,5))\n",
        "print(arr)"
      ],
      "metadata": {
        "colab": {
          "base_uri": "https://localhost:8080/"
        },
        "id": "8os_lBz7poLd",
        "outputId": "7931a3d5-036d-4b32-a9d1-cb08f818e1ec"
      },
      "execution_count": 11,
      "outputs": [
        {
          "output_type": "stream",
          "name": "stdout",
          "text": [
            "[[1. 1. 1. 1. 1.]\n",
            " [1. 1. 1. 1. 1.]]\n"
          ]
        }
      ]
    },
    {
      "cell_type": "code",
      "source": [
        "arr = np.ones((2,5))+100\n",
        "print(arr)"
      ],
      "metadata": {
        "colab": {
          "base_uri": "https://localhost:8080/"
        },
        "id": "NGDYuZR1p1Mw",
        "outputId": "04554388-7fe7-459d-8bbb-fdf6cee4dbbe"
      },
      "execution_count": 13,
      "outputs": [
        {
          "output_type": "stream",
          "name": "stdout",
          "text": [
            "[[101. 101. 101. 101. 101.]\n",
            " [101. 101. 101. 101. 101.]]\n"
          ]
        }
      ]
    },
    {
      "cell_type": "code",
      "source": [
        "arr = np.ones((2,5))+1\n",
        "print(arr)"
      ],
      "metadata": {
        "colab": {
          "base_uri": "https://localhost:8080/"
        },
        "id": "yMa3Ukd-qXJY",
        "outputId": "0db94496-7fcd-4669-d817-71bfa3c47b21"
      },
      "execution_count": 14,
      "outputs": [
        {
          "output_type": "stream",
          "name": "stdout",
          "text": [
            "[[2. 2. 2. 2. 2.]\n",
            " [2. 2. 2. 2. 2.]]\n"
          ]
        }
      ]
    },
    {
      "cell_type": "code",
      "source": [
        "arr = np.array([1,2,3,4,5,6,7,8,9,10,11,12,13])\n",
        "# reshaped_arr = arr.reshape(2,6)\n",
        "# print(reshaped_arr)\n",
        "\n",
        "# reshaped_arr = arr.reshape(2,3,2)\n",
        "# print(reshaped_arr)\n",
        "\n",
        "reshaped_arr = arr.reshape(13,1)\n",
        "print(reshaped_arr)\n",
        "\n",
        "# reshaped_arr = arr.reshape(2,6)\n",
        "# print(reshaped_arr)"
      ],
      "metadata": {
        "colab": {
          "base_uri": "https://localhost:8080/"
        },
        "id": "fASUpJtAqcFe",
        "outputId": "d4012379-e13f-412f-ae9e-501a91318484"
      },
      "execution_count": 23,
      "outputs": [
        {
          "output_type": "stream",
          "name": "stdout",
          "text": [
            "[[ 1]\n",
            " [ 2]\n",
            " [ 3]\n",
            " [ 4]\n",
            " [ 5]\n",
            " [ 6]\n",
            " [ 7]\n",
            " [ 8]\n",
            " [ 9]\n",
            " [10]\n",
            " [11]\n",
            " [12]\n",
            " [13]]\n"
          ]
        }
      ]
    },
    {
      "cell_type": "code",
      "source": [
        "#Create a numpy array that has the shape 3x5 and all the elements are 5.\n",
        "\n",
        "arr1 = np.ones((3,5), dtype= 'int') + 4 # if I don't give the data type int ,it will return float values.\n",
        "print(arr1)"
      ],
      "metadata": {
        "colab": {
          "base_uri": "https://localhost:8080/"
        },
        "id": "fxeQOMYhs2YN",
        "outputId": "1b562659-6d8f-4ed9-a6c3-fd57464e96c8"
      },
      "execution_count": 29,
      "outputs": [
        {
          "output_type": "stream",
          "name": "stdout",
          "text": [
            "[[5 5 5 5 5]\n",
            " [5 5 5 5 5]\n",
            " [5 5 5 5 5]]\n"
          ]
        }
      ]
    },
    {
      "cell_type": "code",
      "source": [
        "arr = np.full((3,5),5)\n",
        "print(arr)"
      ],
      "metadata": {
        "colab": {
          "base_uri": "https://localhost:8080/"
        },
        "id": "P-OIz886t8Q6",
        "outputId": "cdc0eb18-4eed-4805-a189-d871371ecf99"
      },
      "execution_count": 28,
      "outputs": [
        {
          "output_type": "stream",
          "name": "stdout",
          "text": [
            "[[5 5 5 5 5]\n",
            " [5 5 5 5 5]\n",
            " [5 5 5 5 5]]\n"
          ]
        }
      ]
    },
    {
      "cell_type": "code",
      "source": [
        "# 6.Create a numpy array with random integer in the range 0 to 100, and the sample size should be 25.\n",
        "\n",
        "arr = np.random.randint(0,100,size=25)\n",
        "print(arr)"
      ],
      "metadata": {
        "colab": {
          "base_uri": "https://localhost:8080/"
        },
        "id": "sIT0aGsCuUUU",
        "outputId": "b1a087fe-1122-42f7-8698-f4c64647a689"
      },
      "execution_count": 32,
      "outputs": [
        {
          "output_type": "stream",
          "name": "stdout",
          "text": [
            "[97 13 12 90 91 58 86 56 92 79 98  0 68  0 13 35 82 70 27 17 16 69 42 74\n",
            " 69]\n"
          ]
        }
      ]
    },
    {
      "cell_type": "code",
      "source": [],
      "metadata": {
        "id": "LgYSd5guv6T2"
      },
      "execution_count": null,
      "outputs": []
    }
  ]
}