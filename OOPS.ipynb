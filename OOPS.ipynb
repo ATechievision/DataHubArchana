{
  "nbformat": 4,
  "nbformat_minor": 0,
  "metadata": {
    "colab": {
      "provenance": [],
      "authorship_tag": "ABX9TyPx8sGv3tgj7EuXHh5VZn13",
      "include_colab_link": true
    },
    "kernelspec": {
      "name": "python3",
      "display_name": "Python 3"
    },
    "language_info": {
      "name": "python"
    }
  },
  "cells": [
    {
      "cell_type": "markdown",
      "metadata": {
        "id": "view-in-github",
        "colab_type": "text"
      },
      "source": [
        "<a href=\"https://colab.research.google.com/github/ATechievision/DataHubArchana/blob/main/OOPS.ipynb\" target=\"_parent\"><img src=\"https://colab.research.google.com/assets/colab-badge.svg\" alt=\"Open In Colab\"/></a>"
      ]
    },
    {
      "cell_type": "code",
      "execution_count": null,
      "metadata": {
        "id": "YsoSeRuR_dhe"
      },
      "outputs": [],
      "source": [
        "#Single Inheritence\n",
        "#before defining a class we have to give the class name\n",
        "#Single Inheritence\n",
        "#before defining a class we have to give the class name\n",
        "\n",
        "class Parent:\n",
        "  def __init__(self):\n",
        "    self.name = \"XYZ\"\n",
        "\n",
        "class Child(Parent):\n",
        "  def display(self):\n",
        "    print(self.name)\n",
        "\n",
        "obja= Child()\n",
        "obja.display()\n",
        "class Child(Parent):\n",
        "  def display(self):\n",
        "    print(self.name)\n",
        "\n",
        "obja= Child()\n",
        "obj1.display()\n",
        "\n"
      ]
    },
    {
      "cell_type": "code",
      "source": [],
      "metadata": {
        "id": "7SuwwIc0_q8r"
      },
      "execution_count": null,
      "outputs": []
    },
    {
      "cell_type": "code",
      "source": [
        "#Write a python program to find the maximum of 3 numbrs\n",
        "#To check armstrong number\n",
        "#To reverse a string\n",
        "\n",
        "def max_three(a,b,c):\n",
        "  if a>b and a>c:\n",
        "    print(a)\n",
        "  elif b>a and b>c:\n",
        "    print(b)\n",
        "  elif c>a and c>b:\n",
        "    print(c)\n",
        "\n",
        "a=int (input(\"Enter the first number\"))\n",
        "b=int (input(\"Enter the second number\"))\n",
        "c=int (input(\"Enter the third number\"))\n",
        "\n",
        "max_three(a,b,c)"
      ],
      "metadata": {
        "colab": {
          "base_uri": "https://localhost:8080/"
        },
        "id": "GGR_-9iCcqQd",
        "outputId": "ee289e7f-0fb4-455a-cfb9-5e443e4bad7e"
      },
      "execution_count": 1,
      "outputs": [
        {
          "output_type": "stream",
          "name": "stdout",
          "text": [
            "Enter the first number15\n",
            "Enter the second number24\n",
            "Enter the third number12\n",
            "24\n"
          ]
        }
      ]
    },
    {
      "cell_type": "code",
      "source": [
        "#max() -> we can find the maximum of all the numbers.\n",
        "\n",
        "#min() -> the minimum of all the numbers.\n",
        "\n",
        "max_new = max(a,b,c)\n",
        "print(max_new)\n",
        "\n",
        "min_new = min(a,b,c)\n",
        "print(min_new)\n"
      ],
      "metadata": {
        "colab": {
          "base_uri": "https://localhost:8080/"
        },
        "id": "rqBwm_X2epT3",
        "outputId": "65981a1a-cefd-412d-f1f7-944a9ab7c8df"
      },
      "execution_count": 3,
      "outputs": [
        {
          "output_type": "stream",
          "name": "stdout",
          "text": [
            "24\n",
            "12\n"
          ]
        }
      ]
    },
    {
      "cell_type": "code",
      "source": [
        "#To check armstrong number\n",
        "\n",
        "370 -> 3^3 + 7^3 + 0^3\n",
        "\n",
        "#370 is an armstrong number\n"
      ],
      "metadata": {
        "id": "0ZQRbTUxf3xY"
      },
      "execution_count": null,
      "outputs": []
    },
    {
      "cell_type": "code",
      "source": [
        "string1 = \"Hello\"\n",
        "\n",
        "string1[::-1]"
      ],
      "metadata": {
        "colab": {
          "base_uri": "https://localhost:8080/",
          "height": 36
        },
        "id": "h2OIOzhDlicT",
        "outputId": "69e98840-1158-42d4-d007-b51e3e986c26"
      },
      "execution_count": 4,
      "outputs": [
        {
          "output_type": "execute_result",
          "data": {
            "text/plain": [
              "'olleH'"
            ],
            "application/vnd.google.colaboratory.intrinsic+json": {
              "type": "string"
            }
          },
          "metadata": {},
          "execution_count": 4
        }
      ]
    },
    {
      "cell_type": "markdown",
      "source": [
        "Create a class named'Super'and inside that class define a user-defined function named # fun1.\n",
        "Inside the 'fun1' function, pass the message \"This is function 1 in the Super class.\" in the print startement."
      ],
      "metadata": {
        "id": "YlYKGmGhlwi2"
      }
    },
    {
      "cell_type": "code",
      "source": [
        "# prompt: create a class named \"Super\"\n",
        "\n",
        "class Super:\n",
        "  def fun1(self):\n",
        "    print(\"This is function 1 in the Super class.\")\n",
        "obj1 = Super()\n",
        "obj1.fun1()\n"
      ],
      "metadata": {
        "id": "By8vqYTKluMO"
      },
      "execution_count": null,
      "outputs": []
    },
    {
      "cell_type": "markdown",
      "source": [
        "Create another class named 'Modified_Super' and inherit this class from the super class.\n",
        "Inside the Modified_Super class, create a function  named 'fun1' and pass the following message  inside the print statement :'This is function 1 in the Modified Super Class.'\n",
        "Create another user- defined function named 'fun2'and pass the message :'This is the 2nd function  from the Modified Super Class.' in the print statement .\n",
        "After that ,now create an object for the Modified_Super class and call the fun1().\n"
      ],
      "metadata": {
        "id": "IP5XAYNhnJYe"
      }
    },
    {
      "cell_type": "code",
      "source": [
        "# prompt: Create another class named 'Modified_Super' and inherit this class from the super class. Inside the Modified_Super class, create a function named 'fun1' and pass the following message inside the print statement :'This is function 1 in the Modified Super Class.'\n",
        "# Create\n",
        "class Super:\n",
        "  def fun1(self):\n",
        "    print(\"This is function 1 in the Super class.\")\n",
        "class Modified_Super(Super):\n",
        "  def fun1(self):\n",
        "    print(\"This is function 1 in the Modified Super Class.\")\n",
        "\n",
        "  def fun2(self):\n",
        "    print(\"This is the 2nd function from the Modified Super Class.\")\n",
        "\n",
        "obj2 = Modified_Super()\n",
        "obj2.fun1()\n"
      ],
      "metadata": {
        "colab": {
          "base_uri": "https://localhost:8080/"
        },
        "id": "34QLHQ95oF8i",
        "outputId": "04a4f3ed-a414-403e-8c54-c21767b10e2c"
      },
      "execution_count": 6,
      "outputs": [
        {
          "output_type": "stream",
          "name": "stdout",
          "text": [
            "This is function 1 in the Modified Super Class.\n"
          ]
        }
      ]
    },
    {
      "cell_type": "markdown",
      "source": [
        "Create 2 methods named 'Hello'. In the 1st Hello method, pass only one argument and pass tis message:'This function only has 1 argument'. And in the 2nd Hello method., pass two arguments and pass this message:'This function has 2 arguments'.\n",
        "Try to call both the methods and analyze the output of both the methods.\n"
      ],
      "metadata": {
        "id": "zVbWxBa_rZh7"
      }
    },
    {
      "cell_type": "code",
      "source": [
        "# prompt: Create 2 methods named 'Hello'. In the 1st Hello method, pass only one argument and pass tis message:'This function only has 1 argument'. And in the 2nd Hello method., pass two arguments and pass this message:'This function has 2 arguments'. Try to call both the methods and analyze the output of both the methods.\n",
        "\n",
        "def Hello(arg1, arg2):\n",
        "  print('This function has 2 arguments')\n",
        "\n",
        "def Hello(*argument1):\n",
        "  print('This function has 1 argument')\n",
        "\n",
        "Hello(1) # This will call the second Hello method because it is defined later with two arguments.\n",
        "#Hello(1,2) # This will call the second Hello method with two arguments\n"
      ],
      "metadata": {
        "colab": {
          "base_uri": "https://localhost:8080/"
        },
        "id": "6da0LpHesBop",
        "outputId": "20712108-12a4-463b-c520-05e99a3c1768"
      },
      "execution_count": 19,
      "outputs": [
        {
          "output_type": "stream",
          "name": "stdout",
          "text": [
            "This function has 1 argument\n"
          ]
        }
      ]
    },
    {
      "cell_type": "code",
      "source": [
        "# prompt: Create a method named 'sum' that can accept multiple user inputs .Now add those user-defined input values using for loop and the function should return the addition of the number.\n",
        "\n",
        "def sum_numbers():\n",
        "  \"\"\"Accepts multiple user inputs and returns their sum.\"\"\"\n",
        "  numbers = []\n",
        "  while True:\n",
        "    try:\n",
        "      user_input = input(\"Enter a number (or 'done' to finish): \")\n",
        "      if user_input.lower() == 'done':\n",
        "        break\n",
        "      number = float(user_input)\n",
        "      numbers.append(number)\n",
        "    except ValueError:\n",
        "      print(\"Invalid input. Please enter a number or 'done'.\")\n",
        "\n",
        "  total = 0\n",
        "  for number in numbers:\n",
        "    total += number\n",
        "  return total\n",
        "\n",
        "# Example usage:\n",
        "result = sum_numbers()\n",
        "print(\"The sum of the numbers is:\", result)\n"
      ],
      "metadata": {
        "id": "bLc3k0YUxITr"
      },
      "execution_count": null,
      "outputs": []
    },
    {
      "cell_type": "code",
      "source": [],
      "metadata": {
        "id": "69xSDIul2Ozy"
      },
      "execution_count": null,
      "outputs": []
    },
    {
      "cell_type": "code",
      "source": [
        "#Arbitrary Argument\n",
        "#Create a method named 'sum' that can accept multiple user inputs .Now add those user-defined input values using for loop and the function should return the addition of the number.\n",
        "\n",
        "def sum(*nums):\n",
        "  sum = 0\n",
        "  for num in nums:\n",
        "    sum += num\n",
        "  return sum\n",
        "\n",
        "result = sum(1,2,3,4,5)\n",
        "print(result)"
      ],
      "metadata": {
        "colab": {
          "base_uri": "https://localhost:8080/"
        },
        "id": "3GL7wrfev2v9",
        "outputId": "a2ebe178-bea4-4039-fef1-1d9f78f1da2f"
      },
      "execution_count": 15,
      "outputs": [
        {
          "output_type": "stream",
          "name": "stdout",
          "text": [
            "15\n"
          ]
        }
      ]
    },
    {
      "cell_type": "markdown",
      "source": [
        "Create a class named 'Encapsulation'\n",
        "Inside the class , first create constructer.Inside the constructer ,initialize  'original value' variable as 10.\n",
        "\n",
        "After creating the connstructer ,define a function named 'value' and this function should return the variable that we have initialized in the constructer.\n",
        "\n",
        "Now create 2nd function  named setValue, and pass an argument named 'newvalue'.Th task of this function will be to replace the value of the originalValue variable by the value of the NewValue variable."
      ],
      "metadata": {
        "id": "HzKYxqka2qSd"
      }
    },
    {
      "cell_type": "code",
      "source": [
        "# prompt: connstructer ,define a function named 'value' and this function should return the variable that we have initialized in the constructer.\n",
        "\n",
        "class Encapsulation:\n",
        "  def __init__(self):\n",
        "    self.originalValue = 10\n",
        "\n",
        "  def value(self):\n",
        "    return self.originalValue\n",
        "\n",
        "  def setValue(self, newValue):\n",
        "    self.originalValue = newValue\n",
        "\n",
        "# Example usage:\n",
        "obj = Encapsulation()\n",
        "print(obj.value())  # Output: 10\n",
        "\n",
        "obj.setValue(20)\n",
        "print(obj.value())  # Output: 20\n"
      ],
      "metadata": {
        "colab": {
          "base_uri": "https://localhost:8080/"
        },
        "id": "S9CrxI2K3zTV",
        "outputId": "b405a0d1-19f3-47a3-bcbd-e3c9be9bc85c"
      },
      "execution_count": 23,
      "outputs": [
        {
          "output_type": "stream",
          "name": "stdout",
          "text": [
            "10\n",
            "20\n"
          ]
        }
      ]
    },
    {
      "cell_type": "markdown",
      "source": [
        "# Scenario\n",
        "Create an abstract class vehicle with start , stop  and speed method.\n",
        "Implement car , bike and you have to print The car has started wiht the help of Start method, Stop method and Speed method."
      ],
      "metadata": {
        "id": "ZGuqMD515z2S"
      }
    },
    {
      "cell_type": "markdown",
      "source": [
        "Function overloading"
      ],
      "metadata": {
        "id": "CQvMDDs1vzZh"
      }
    },
    {
      "cell_type": "code",
      "source": [
        "from abc import ABC, abstractmethod\n",
        "\n",
        "class Vehicle(ABC):\n",
        "\n",
        "  @abstractmethod\n",
        "  def start(self):\n",
        "    pass\n",
        "\n",
        "  @abstractmethod\n",
        "  def stop(self):\n",
        "    pass\n",
        "\n",
        "  @abstractmethod\n",
        "  def speed(self):\n",
        "    pass\n",
        "\n",
        "class car(Vehicle):\n",
        "  def start(self):\n",
        "    print(\"The car has started.\")\n",
        "\n",
        "  def stop(self):\n",
        "    print(\"The car has stopped.\")\n",
        "\n",
        "  def speed(self):\n",
        "    print(\"The car is moving at a certain speed.\")\n"
      ],
      "metadata": {
        "id": "R2v4pMQL6kov"
      },
      "execution_count": 26,
      "outputs": []
    },
    {
      "cell_type": "code",
      "source": [
        "# prompt: Create an abstract class vehicle with start , stop  and speed method. Implement car , bike and you have to print The car has started wiht the help of Start method, Stop method and Speed method.\n",
        "\n",
        "from abc import ABC, abstractmethod\n",
        "\n",
        "class Vehicle(ABC):\n",
        "  @abstractmethod\n",
        "  def start(self):\n",
        "    pass\n",
        "\n",
        "  @abstractmethod\n",
        "  def stop(self):\n",
        "    pass\n",
        "\n",
        "  @abstractmethod\n",
        "  def speed(self):\n",
        "    pass\n",
        "\n",
        "\n",
        "class Car(Vehicle):\n",
        "  def start(self):\n",
        "    print(\"The car has started.\")\n",
        "\n",
        "  def stop(self):\n",
        "    print(\"The car has stopped.\")\n",
        "\n",
        "  def speed(self):\n",
        "    print(\"The car is moving at a certain speed.\")\n",
        "\n",
        "  def wheels(self):\n",
        "    print(\"The car has 4 wheels.\")\n",
        "\n",
        "\n",
        "class Bike(Vehicle):\n",
        "  def start(self):\n",
        "    print(\"The bike has started.\")\n",
        "\n",
        "  def stop(self):\n",
        "    print(\"The bike has stopped.\")\n",
        "\n",
        "  def speed(self):\n",
        "    print(\"The bike is moving at a certain speed.\")\n",
        "\n",
        "\n",
        "\n",
        "\n",
        "# Example usage\n",
        "my_car = Car()\n",
        "my_car.start()\n",
        "my_car.speed()\n",
        "my_car.stop()\n",
        "my_car.wheels()\n",
        "\n",
        "my_bike = Bike()\n",
        "my_bike.start()\n",
        "my_bike.speed()\n",
        "my_bike.stop()\n"
      ],
      "metadata": {
        "colab": {
          "base_uri": "https://localhost:8080/"
        },
        "id": "LV2BdLaM65U3",
        "outputId": "cc083ae1-62fe-4b3f-df60-28c172b05ca5"
      },
      "execution_count": 29,
      "outputs": [
        {
          "output_type": "stream",
          "name": "stdout",
          "text": [
            "The car has started.\n",
            "The car is moving at a certain speed.\n",
            "The car has stopped.\n",
            "The car has 4 wheels.\n",
            "The bike has started.\n",
            "The bike is moving at a certain speed.\n",
            "The bike has stopped.\n"
          ]
        }
      ]
    }
  ]
}